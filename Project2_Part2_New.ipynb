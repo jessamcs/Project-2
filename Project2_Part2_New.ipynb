{
  "nbformat": 4,
  "nbformat_minor": 0,
  "metadata": {
    "colab": {
      "name": "Project2_Part2_New.ipynb",
      "provenance": [],
      "authorship_tag": "ABX9TyNeV5VskRjQYTGt5ILfzhY8",
      "include_colab_link": true
    },
    "kernelspec": {
      "name": "python3",
      "display_name": "Python 3"
    },
    "language_info": {
      "name": "python"
    }
  },
  "cells": [
    {
      "cell_type": "markdown",
      "metadata": {
        "id": "view-in-github",
        "colab_type": "text"
      },
      "source": [
        "<a href=\"https://colab.research.google.com/github/jessamcs/Project-2/blob/main/Project2_Part2_New.ipynb\" target=\"_parent\"><img src=\"https://colab.research.google.com/assets/colab-badge.svg\" alt=\"Open In Colab\"/></a>"
      ]
    },
    {
      "cell_type": "markdown",
      "source": [
        "**Project2 Part2 (NEW)** - for travel agency & insurance"
      ],
      "metadata": {
        "id": "Mx5Z4K_i_aZj"
      }
    },
    {
      "cell_type": "markdown",
      "source": [
        "To meet the requirements for this week you must have:\n",
        "\n",
        "- deleted unnecessary columns\n",
        "\n",
        "- deleted duplicate rows\n",
        "\n",
        "- identified and addressed missing values \n",
        "\n",
        "- identified and corrected inconsistencies in data for categorical values (i.e. Cat, cat, cats)\n",
        "\n",
        "- produced univariate visuals for the target and all features\n",
        "\n",
        "- identified outliers\n",
        "\n",
        "- produce a correlation heatmap and identify any moderate or strong correlations between your target and your features and/or between one feature and another\n",
        "\n",
        "- clearly commented all of your cleaning steps and described any decisions you made "
      ],
      "metadata": {
        "id": "ubdEY7eK_dEo"
      }
    },
    {
      "cell_type": "code",
      "source": [
        "import pandas as pd\n",
        "import numpy as np\n",
        "import plotly.express as px\n",
        "import seaborn as sns\n",
        "import matplotlib.pyplot as plt\n",
        "from palettable.colorbrewer.qualitative import Pastel1_7\n",
        "from sklearn.preprocessing import MinMaxScaler\n",
        "from imblearn.over_sampling import SMOTE \n",
        "from sklearn.model_selection import train_test_split\n",
        "from sklearn.ensemble import RandomForestClassifier\n",
        "from sklearn.metrics import accuracy_score, recall_score, confusion_matrix\n",
        "from sklearn.metrics import f1_score\n",
        "from sklearn.compose import make_column_selector, make_column_transformer\n",
        "from sklearn.impute import SimpleImputer\n",
        "from sklearn.preprocessing import OneHotEncoder\n",
        "from sklearn.preprocessing import StandardScaler\n",
        "from sklearn.pipeline import make_pipeline\n",
        "from sklearn.metrics import silhouette_score\n",
        "from sklearn.cluster import KMeans\n",
        "from pandas.plotting import lag_plot"
      ],
      "metadata": {
        "id": "H9udndft_1YQ"
      },
      "execution_count": null,
      "outputs": []
    },
    {
      "cell_type": "code",
      "source": [
        "df=pd.read_csv('/content/travel insurance.csv')\n",
        "df.head()"
      ],
      "metadata": {
        "id": "x3xfXbQe_2Fq",
        "colab": {
          "base_uri": "https://localhost:8080/",
          "height": 354
        },
        "outputId": "dcddf8c2-dd59-463e-ef79-b2fb4a11ac15"
      },
      "execution_count": null,
      "outputs": [
        {
          "output_type": "execute_result",
          "data": {
            "text/html": [
              "\n",
              "  <div id=\"df-6830f296-01f3-4b30-9a1f-1e90a508ae87\">\n",
              "    <div class=\"colab-df-container\">\n",
              "      <div>\n",
              "<style scoped>\n",
              "    .dataframe tbody tr th:only-of-type {\n",
              "        vertical-align: middle;\n",
              "    }\n",
              "\n",
              "    .dataframe tbody tr th {\n",
              "        vertical-align: top;\n",
              "    }\n",
              "\n",
              "    .dataframe thead th {\n",
              "        text-align: right;\n",
              "    }\n",
              "</style>\n",
              "<table border=\"1\" class=\"dataframe\">\n",
              "  <thead>\n",
              "    <tr style=\"text-align: right;\">\n",
              "      <th></th>\n",
              "      <th>Agency</th>\n",
              "      <th>Agency Type</th>\n",
              "      <th>Distribution Channel</th>\n",
              "      <th>Product Name</th>\n",
              "      <th>Claim</th>\n",
              "      <th>Duration</th>\n",
              "      <th>Destination</th>\n",
              "      <th>Net Sales</th>\n",
              "      <th>Commision (in value)</th>\n",
              "      <th>Gender</th>\n",
              "      <th>Age</th>\n",
              "    </tr>\n",
              "  </thead>\n",
              "  <tbody>\n",
              "    <tr>\n",
              "      <th>0</th>\n",
              "      <td>CBH</td>\n",
              "      <td>Travel Agency</td>\n",
              "      <td>Offline</td>\n",
              "      <td>Comprehensive Plan</td>\n",
              "      <td>No</td>\n",
              "      <td>186</td>\n",
              "      <td>MALAYSIA</td>\n",
              "      <td>-29.0</td>\n",
              "      <td>9.57</td>\n",
              "      <td>F</td>\n",
              "      <td>81</td>\n",
              "    </tr>\n",
              "    <tr>\n",
              "      <th>1</th>\n",
              "      <td>CBH</td>\n",
              "      <td>Travel Agency</td>\n",
              "      <td>Offline</td>\n",
              "      <td>Comprehensive Plan</td>\n",
              "      <td>No</td>\n",
              "      <td>186</td>\n",
              "      <td>MALAYSIA</td>\n",
              "      <td>-29.0</td>\n",
              "      <td>9.57</td>\n",
              "      <td>F</td>\n",
              "      <td>71</td>\n",
              "    </tr>\n",
              "    <tr>\n",
              "      <th>2</th>\n",
              "      <td>CWT</td>\n",
              "      <td>Travel Agency</td>\n",
              "      <td>Online</td>\n",
              "      <td>Rental Vehicle Excess Insurance</td>\n",
              "      <td>No</td>\n",
              "      <td>65</td>\n",
              "      <td>AUSTRALIA</td>\n",
              "      <td>-49.5</td>\n",
              "      <td>29.70</td>\n",
              "      <td>NaN</td>\n",
              "      <td>32</td>\n",
              "    </tr>\n",
              "    <tr>\n",
              "      <th>3</th>\n",
              "      <td>CWT</td>\n",
              "      <td>Travel Agency</td>\n",
              "      <td>Online</td>\n",
              "      <td>Rental Vehicle Excess Insurance</td>\n",
              "      <td>No</td>\n",
              "      <td>60</td>\n",
              "      <td>AUSTRALIA</td>\n",
              "      <td>-39.6</td>\n",
              "      <td>23.76</td>\n",
              "      <td>NaN</td>\n",
              "      <td>32</td>\n",
              "    </tr>\n",
              "    <tr>\n",
              "      <th>4</th>\n",
              "      <td>CWT</td>\n",
              "      <td>Travel Agency</td>\n",
              "      <td>Online</td>\n",
              "      <td>Rental Vehicle Excess Insurance</td>\n",
              "      <td>No</td>\n",
              "      <td>79</td>\n",
              "      <td>ITALY</td>\n",
              "      <td>-19.8</td>\n",
              "      <td>11.88</td>\n",
              "      <td>NaN</td>\n",
              "      <td>41</td>\n",
              "    </tr>\n",
              "  </tbody>\n",
              "</table>\n",
              "</div>\n",
              "      <button class=\"colab-df-convert\" onclick=\"convertToInteractive('df-6830f296-01f3-4b30-9a1f-1e90a508ae87')\"\n",
              "              title=\"Convert this dataframe to an interactive table.\"\n",
              "              style=\"display:none;\">\n",
              "        \n",
              "  <svg xmlns=\"http://www.w3.org/2000/svg\" height=\"24px\"viewBox=\"0 0 24 24\"\n",
              "       width=\"24px\">\n",
              "    <path d=\"M0 0h24v24H0V0z\" fill=\"none\"/>\n",
              "    <path d=\"M18.56 5.44l.94 2.06.94-2.06 2.06-.94-2.06-.94-.94-2.06-.94 2.06-2.06.94zm-11 1L8.5 8.5l.94-2.06 2.06-.94-2.06-.94L8.5 2.5l-.94 2.06-2.06.94zm10 10l.94 2.06.94-2.06 2.06-.94-2.06-.94-.94-2.06-.94 2.06-2.06.94z\"/><path d=\"M17.41 7.96l-1.37-1.37c-.4-.4-.92-.59-1.43-.59-.52 0-1.04.2-1.43.59L10.3 9.45l-7.72 7.72c-.78.78-.78 2.05 0 2.83L4 21.41c.39.39.9.59 1.41.59.51 0 1.02-.2 1.41-.59l7.78-7.78 2.81-2.81c.8-.78.8-2.07 0-2.86zM5.41 20L4 18.59l7.72-7.72 1.47 1.35L5.41 20z\"/>\n",
              "  </svg>\n",
              "      </button>\n",
              "      \n",
              "  <style>\n",
              "    .colab-df-container {\n",
              "      display:flex;\n",
              "      flex-wrap:wrap;\n",
              "      gap: 12px;\n",
              "    }\n",
              "\n",
              "    .colab-df-convert {\n",
              "      background-color: #E8F0FE;\n",
              "      border: none;\n",
              "      border-radius: 50%;\n",
              "      cursor: pointer;\n",
              "      display: none;\n",
              "      fill: #1967D2;\n",
              "      height: 32px;\n",
              "      padding: 0 0 0 0;\n",
              "      width: 32px;\n",
              "    }\n",
              "\n",
              "    .colab-df-convert:hover {\n",
              "      background-color: #E2EBFA;\n",
              "      box-shadow: 0px 1px 2px rgba(60, 64, 67, 0.3), 0px 1px 3px 1px rgba(60, 64, 67, 0.15);\n",
              "      fill: #174EA6;\n",
              "    }\n",
              "\n",
              "    [theme=dark] .colab-df-convert {\n",
              "      background-color: #3B4455;\n",
              "      fill: #D2E3FC;\n",
              "    }\n",
              "\n",
              "    [theme=dark] .colab-df-convert:hover {\n",
              "      background-color: #434B5C;\n",
              "      box-shadow: 0px 1px 3px 1px rgba(0, 0, 0, 0.15);\n",
              "      filter: drop-shadow(0px 1px 2px rgba(0, 0, 0, 0.3));\n",
              "      fill: #FFFFFF;\n",
              "    }\n",
              "  </style>\n",
              "\n",
              "      <script>\n",
              "        const buttonEl =\n",
              "          document.querySelector('#df-6830f296-01f3-4b30-9a1f-1e90a508ae87 button.colab-df-convert');\n",
              "        buttonEl.style.display =\n",
              "          google.colab.kernel.accessAllowed ? 'block' : 'none';\n",
              "\n",
              "        async function convertToInteractive(key) {\n",
              "          const element = document.querySelector('#df-6830f296-01f3-4b30-9a1f-1e90a508ae87');\n",
              "          const dataTable =\n",
              "            await google.colab.kernel.invokeFunction('convertToInteractive',\n",
              "                                                     [key], {});\n",
              "          if (!dataTable) return;\n",
              "\n",
              "          const docLinkHtml = 'Like what you see? Visit the ' +\n",
              "            '<a target=\"_blank\" href=https://colab.research.google.com/notebooks/data_table.ipynb>data table notebook</a>'\n",
              "            + ' to learn more about interactive tables.';\n",
              "          element.innerHTML = '';\n",
              "          dataTable['output_type'] = 'display_data';\n",
              "          await google.colab.output.renderOutput(dataTable, element);\n",
              "          const docLink = document.createElement('div');\n",
              "          docLink.innerHTML = docLinkHtml;\n",
              "          element.appendChild(docLink);\n",
              "        }\n",
              "      </script>\n",
              "    </div>\n",
              "  </div>\n",
              "  "
            ],
            "text/plain": [
              "  Agency    Agency Type Distribution Channel  ... Commision (in value) Gender  Age\n",
              "0    CBH  Travel Agency              Offline  ...                 9.57      F   81\n",
              "1    CBH  Travel Agency              Offline  ...                 9.57      F   71\n",
              "2    CWT  Travel Agency               Online  ...                29.70    NaN   32\n",
              "3    CWT  Travel Agency               Online  ...                23.76    NaN   32\n",
              "4    CWT  Travel Agency               Online  ...                11.88    NaN   41\n",
              "\n",
              "[5 rows x 11 columns]"
            ]
          },
          "metadata": {},
          "execution_count": 2
        }
      ]
    },
    {
      "cell_type": "code",
      "source": [
        "df.info()\n"
      ],
      "metadata": {
        "id": "aGrjL1OqAS9x",
        "colab": {
          "base_uri": "https://localhost:8080/"
        },
        "outputId": "e808d7af-a5cf-4ebf-efe8-a6dca6ff2bec"
      },
      "execution_count": null,
      "outputs": [
        {
          "output_type": "stream",
          "name": "stdout",
          "text": [
            "<class 'pandas.core.frame.DataFrame'>\n",
            "RangeIndex: 63326 entries, 0 to 63325\n",
            "Data columns (total 11 columns):\n",
            " #   Column                Non-Null Count  Dtype  \n",
            "---  ------                --------------  -----  \n",
            " 0   Agency                63326 non-null  object \n",
            " 1   Agency Type           63326 non-null  object \n",
            " 2   Distribution Channel  63326 non-null  object \n",
            " 3   Product Name          63326 non-null  object \n",
            " 4   Claim                 63326 non-null  object \n",
            " 5   Duration              63326 non-null  int64  \n",
            " 6   Destination           63326 non-null  object \n",
            " 7   Net Sales             63326 non-null  float64\n",
            " 8   Commision (in value)  63326 non-null  float64\n",
            " 9   Gender                18219 non-null  object \n",
            " 10  Age                   63326 non-null  int64  \n",
            "dtypes: float64(2), int64(2), object(7)\n",
            "memory usage: 5.3+ MB\n"
          ]
        }
      ]
    },
    {
      "cell_type": "code",
      "source": [
        "#delete duplicate rows\n",
        "duplicate = df[df.duplicated()]\n",
        "print(duplicate)"
      ],
      "metadata": {
        "id": "Yx5O25RgAOYi",
        "colab": {
          "base_uri": "https://localhost:8080/"
        },
        "outputId": "439d7bda-3026-4414-bb5e-60959f9ffa9d"
      },
      "execution_count": null,
      "outputs": [
        {
          "output_type": "stream",
          "name": "stdout",
          "text": [
            "      Agency    Agency Type  ... Gender  Age\n",
            "287      EPX  Travel Agency  ...    NaN   36\n",
            "302      EPX  Travel Agency  ...    NaN   36\n",
            "356      EPX  Travel Agency  ...    NaN   36\n",
            "404      CCR  Travel Agency  ...      M  118\n",
            "450      EPX  Travel Agency  ...    NaN   36\n",
            "...      ...            ...  ...    ...  ...\n",
            "63304    EPX  Travel Agency  ...    NaN   36\n",
            "63309    SSI       Airlines  ...    NaN   48\n",
            "63316    JZI       Airlines  ...      F   25\n",
            "63317    JZI       Airlines  ...      F   25\n",
            "63324    JZI       Airlines  ...      M   63\n",
            "\n",
            "[8042 rows x 11 columns]\n"
          ]
        }
      ]
    },
    {
      "cell_type": "code",
      "source": [
        "#identified and addressed missing values\n",
        "missing_item_weight_filter = df['Gender'].isnull()\n",
        "missing_item_weight = df.loc[missing_item_weight_filter, :]\n",
        "missing_item_weight"
      ],
      "metadata": {
        "id": "Fay5hE36BYea",
        "colab": {
          "base_uri": "https://localhost:8080/",
          "height": 572
        },
        "outputId": "598d0a53-bb87-4a55-b0a1-438d26ab2fce"
      },
      "execution_count": null,
      "outputs": [
        {
          "output_type": "execute_result",
          "data": {
            "text/html": [
              "\n",
              "  <div id=\"df-2197eee8-0ebf-4234-b29d-bc37028c9012\">\n",
              "    <div class=\"colab-df-container\">\n",
              "      <div>\n",
              "<style scoped>\n",
              "    .dataframe tbody tr th:only-of-type {\n",
              "        vertical-align: middle;\n",
              "    }\n",
              "\n",
              "    .dataframe tbody tr th {\n",
              "        vertical-align: top;\n",
              "    }\n",
              "\n",
              "    .dataframe thead th {\n",
              "        text-align: right;\n",
              "    }\n",
              "</style>\n",
              "<table border=\"1\" class=\"dataframe\">\n",
              "  <thead>\n",
              "    <tr style=\"text-align: right;\">\n",
              "      <th></th>\n",
              "      <th>Agency</th>\n",
              "      <th>Agency Type</th>\n",
              "      <th>Distribution Channel</th>\n",
              "      <th>Product Name</th>\n",
              "      <th>Claim</th>\n",
              "      <th>Duration</th>\n",
              "      <th>Destination</th>\n",
              "      <th>Net Sales</th>\n",
              "      <th>Commision (in value)</th>\n",
              "      <th>Gender</th>\n",
              "      <th>Age</th>\n",
              "    </tr>\n",
              "  </thead>\n",
              "  <tbody>\n",
              "    <tr>\n",
              "      <th>2</th>\n",
              "      <td>CWT</td>\n",
              "      <td>Travel Agency</td>\n",
              "      <td>Online</td>\n",
              "      <td>Rental Vehicle Excess Insurance</td>\n",
              "      <td>No</td>\n",
              "      <td>65</td>\n",
              "      <td>AUSTRALIA</td>\n",
              "      <td>-49.50</td>\n",
              "      <td>29.70</td>\n",
              "      <td>NaN</td>\n",
              "      <td>32</td>\n",
              "    </tr>\n",
              "    <tr>\n",
              "      <th>3</th>\n",
              "      <td>CWT</td>\n",
              "      <td>Travel Agency</td>\n",
              "      <td>Online</td>\n",
              "      <td>Rental Vehicle Excess Insurance</td>\n",
              "      <td>No</td>\n",
              "      <td>60</td>\n",
              "      <td>AUSTRALIA</td>\n",
              "      <td>-39.60</td>\n",
              "      <td>23.76</td>\n",
              "      <td>NaN</td>\n",
              "      <td>32</td>\n",
              "    </tr>\n",
              "    <tr>\n",
              "      <th>4</th>\n",
              "      <td>CWT</td>\n",
              "      <td>Travel Agency</td>\n",
              "      <td>Online</td>\n",
              "      <td>Rental Vehicle Excess Insurance</td>\n",
              "      <td>No</td>\n",
              "      <td>79</td>\n",
              "      <td>ITALY</td>\n",
              "      <td>-19.80</td>\n",
              "      <td>11.88</td>\n",
              "      <td>NaN</td>\n",
              "      <td>41</td>\n",
              "    </tr>\n",
              "    <tr>\n",
              "      <th>6</th>\n",
              "      <td>CWT</td>\n",
              "      <td>Travel Agency</td>\n",
              "      <td>Online</td>\n",
              "      <td>Rental Vehicle Excess Insurance</td>\n",
              "      <td>No</td>\n",
              "      <td>47</td>\n",
              "      <td>UNITED STATES</td>\n",
              "      <td>-39.60</td>\n",
              "      <td>23.76</td>\n",
              "      <td>NaN</td>\n",
              "      <td>32</td>\n",
              "    </tr>\n",
              "    <tr>\n",
              "      <th>7</th>\n",
              "      <td>CWT</td>\n",
              "      <td>Travel Agency</td>\n",
              "      <td>Online</td>\n",
              "      <td>Rental Vehicle Excess Insurance</td>\n",
              "      <td>No</td>\n",
              "      <td>63</td>\n",
              "      <td>AUSTRALIA</td>\n",
              "      <td>-108.90</td>\n",
              "      <td>65.34</td>\n",
              "      <td>NaN</td>\n",
              "      <td>29</td>\n",
              "    </tr>\n",
              "    <tr>\n",
              "      <th>...</th>\n",
              "      <td>...</td>\n",
              "      <td>...</td>\n",
              "      <td>...</td>\n",
              "      <td>...</td>\n",
              "      <td>...</td>\n",
              "      <td>...</td>\n",
              "      <td>...</td>\n",
              "      <td>...</td>\n",
              "      <td>...</td>\n",
              "      <td>...</td>\n",
              "      <td>...</td>\n",
              "    </tr>\n",
              "    <tr>\n",
              "      <th>63309</th>\n",
              "      <td>SSI</td>\n",
              "      <td>Airlines</td>\n",
              "      <td>Online</td>\n",
              "      <td>Ticket Protector</td>\n",
              "      <td>No</td>\n",
              "      <td>41</td>\n",
              "      <td>SINGAPORE</td>\n",
              "      <td>11.58</td>\n",
              "      <td>3.25</td>\n",
              "      <td>NaN</td>\n",
              "      <td>48</td>\n",
              "    </tr>\n",
              "    <tr>\n",
              "      <th>63310</th>\n",
              "      <td>SSI</td>\n",
              "      <td>Airlines</td>\n",
              "      <td>Online</td>\n",
              "      <td>Ticket Protector</td>\n",
              "      <td>No</td>\n",
              "      <td>69</td>\n",
              "      <td>SINGAPORE</td>\n",
              "      <td>12.87</td>\n",
              "      <td>3.61</td>\n",
              "      <td>NaN</td>\n",
              "      <td>48</td>\n",
              "    </tr>\n",
              "    <tr>\n",
              "      <th>63311</th>\n",
              "      <td>SSI</td>\n",
              "      <td>Airlines</td>\n",
              "      <td>Online</td>\n",
              "      <td>Ticket Protector</td>\n",
              "      <td>No</td>\n",
              "      <td>96</td>\n",
              "      <td>SINGAPORE</td>\n",
              "      <td>5.92</td>\n",
              "      <td>1.66</td>\n",
              "      <td>NaN</td>\n",
              "      <td>48</td>\n",
              "    </tr>\n",
              "    <tr>\n",
              "      <th>63312</th>\n",
              "      <td>SSI</td>\n",
              "      <td>Airlines</td>\n",
              "      <td>Online</td>\n",
              "      <td>Ticket Protector</td>\n",
              "      <td>No</td>\n",
              "      <td>61</td>\n",
              "      <td>SINGAPORE</td>\n",
              "      <td>6.56</td>\n",
              "      <td>1.84</td>\n",
              "      <td>NaN</td>\n",
              "      <td>48</td>\n",
              "    </tr>\n",
              "    <tr>\n",
              "      <th>63313</th>\n",
              "      <td>SSI</td>\n",
              "      <td>Airlines</td>\n",
              "      <td>Online</td>\n",
              "      <td>Ticket Protector</td>\n",
              "      <td>No</td>\n",
              "      <td>60</td>\n",
              "      <td>SINGAPORE</td>\n",
              "      <td>2.64</td>\n",
              "      <td>0.74</td>\n",
              "      <td>NaN</td>\n",
              "      <td>48</td>\n",
              "    </tr>\n",
              "  </tbody>\n",
              "</table>\n",
              "<p>45107 rows × 11 columns</p>\n",
              "</div>\n",
              "      <button class=\"colab-df-convert\" onclick=\"convertToInteractive('df-2197eee8-0ebf-4234-b29d-bc37028c9012')\"\n",
              "              title=\"Convert this dataframe to an interactive table.\"\n",
              "              style=\"display:none;\">\n",
              "        \n",
              "  <svg xmlns=\"http://www.w3.org/2000/svg\" height=\"24px\"viewBox=\"0 0 24 24\"\n",
              "       width=\"24px\">\n",
              "    <path d=\"M0 0h24v24H0V0z\" fill=\"none\"/>\n",
              "    <path d=\"M18.56 5.44l.94 2.06.94-2.06 2.06-.94-2.06-.94-.94-2.06-.94 2.06-2.06.94zm-11 1L8.5 8.5l.94-2.06 2.06-.94-2.06-.94L8.5 2.5l-.94 2.06-2.06.94zm10 10l.94 2.06.94-2.06 2.06-.94-2.06-.94-.94-2.06-.94 2.06-2.06.94z\"/><path d=\"M17.41 7.96l-1.37-1.37c-.4-.4-.92-.59-1.43-.59-.52 0-1.04.2-1.43.59L10.3 9.45l-7.72 7.72c-.78.78-.78 2.05 0 2.83L4 21.41c.39.39.9.59 1.41.59.51 0 1.02-.2 1.41-.59l7.78-7.78 2.81-2.81c.8-.78.8-2.07 0-2.86zM5.41 20L4 18.59l7.72-7.72 1.47 1.35L5.41 20z\"/>\n",
              "  </svg>\n",
              "      </button>\n",
              "      \n",
              "  <style>\n",
              "    .colab-df-container {\n",
              "      display:flex;\n",
              "      flex-wrap:wrap;\n",
              "      gap: 12px;\n",
              "    }\n",
              "\n",
              "    .colab-df-convert {\n",
              "      background-color: #E8F0FE;\n",
              "      border: none;\n",
              "      border-radius: 50%;\n",
              "      cursor: pointer;\n",
              "      display: none;\n",
              "      fill: #1967D2;\n",
              "      height: 32px;\n",
              "      padding: 0 0 0 0;\n",
              "      width: 32px;\n",
              "    }\n",
              "\n",
              "    .colab-df-convert:hover {\n",
              "      background-color: #E2EBFA;\n",
              "      box-shadow: 0px 1px 2px rgba(60, 64, 67, 0.3), 0px 1px 3px 1px rgba(60, 64, 67, 0.15);\n",
              "      fill: #174EA6;\n",
              "    }\n",
              "\n",
              "    [theme=dark] .colab-df-convert {\n",
              "      background-color: #3B4455;\n",
              "      fill: #D2E3FC;\n",
              "    }\n",
              "\n",
              "    [theme=dark] .colab-df-convert:hover {\n",
              "      background-color: #434B5C;\n",
              "      box-shadow: 0px 1px 3px 1px rgba(0, 0, 0, 0.15);\n",
              "      filter: drop-shadow(0px 1px 2px rgba(0, 0, 0, 0.3));\n",
              "      fill: #FFFFFF;\n",
              "    }\n",
              "  </style>\n",
              "\n",
              "      <script>\n",
              "        const buttonEl =\n",
              "          document.querySelector('#df-2197eee8-0ebf-4234-b29d-bc37028c9012 button.colab-df-convert');\n",
              "        buttonEl.style.display =\n",
              "          google.colab.kernel.accessAllowed ? 'block' : 'none';\n",
              "\n",
              "        async function convertToInteractive(key) {\n",
              "          const element = document.querySelector('#df-2197eee8-0ebf-4234-b29d-bc37028c9012');\n",
              "          const dataTable =\n",
              "            await google.colab.kernel.invokeFunction('convertToInteractive',\n",
              "                                                     [key], {});\n",
              "          if (!dataTable) return;\n",
              "\n",
              "          const docLinkHtml = 'Like what you see? Visit the ' +\n",
              "            '<a target=\"_blank\" href=https://colab.research.google.com/notebooks/data_table.ipynb>data table notebook</a>'\n",
              "            + ' to learn more about interactive tables.';\n",
              "          element.innerHTML = '';\n",
              "          dataTable['output_type'] = 'display_data';\n",
              "          await google.colab.output.renderOutput(dataTable, element);\n",
              "          const docLink = document.createElement('div');\n",
              "          docLink.innerHTML = docLinkHtml;\n",
              "          element.appendChild(docLink);\n",
              "        }\n",
              "      </script>\n",
              "    </div>\n",
              "  </div>\n",
              "  "
            ],
            "text/plain": [
              "      Agency    Agency Type  ... Gender Age\n",
              "2        CWT  Travel Agency  ...    NaN  32\n",
              "3        CWT  Travel Agency  ...    NaN  32\n",
              "4        CWT  Travel Agency  ...    NaN  41\n",
              "6        CWT  Travel Agency  ...    NaN  32\n",
              "7        CWT  Travel Agency  ...    NaN  29\n",
              "...      ...            ...  ...    ...  ..\n",
              "63309    SSI       Airlines  ...    NaN  48\n",
              "63310    SSI       Airlines  ...    NaN  48\n",
              "63311    SSI       Airlines  ...    NaN  48\n",
              "63312    SSI       Airlines  ...    NaN  48\n",
              "63313    SSI       Airlines  ...    NaN  48\n",
              "\n",
              "[45107 rows x 11 columns]"
            ]
          },
          "metadata": {},
          "execution_count": 5
        }
      ]
    },
    {
      "cell_type": "code",
      "source": [
        "column_keys=df.select_dtypes(include=['object']).columns.tolist()\n",
        "for key in column_keys:\n",
        "    print('Unique elements of',key,'are: ')\n",
        "    print(df[key].unique(),end='\\n')\n",
        "    print(end='\\n')"
      ],
      "metadata": {
        "id": "cW68R5xVCA-3"
      },
      "execution_count": null,
      "outputs": []
    },
    {
      "cell_type": "code",
      "source": [
        "# deleted unnecessary columns\n",
        "del df['Gender']\n"
      ],
      "metadata": {
        "id": "91blyd_gB2kZ"
      },
      "execution_count": null,
      "outputs": []
    },
    {
      "cell_type": "markdown",
      "source": [
        "#Deleted Gender column as it is not the part of the target project"
      ],
      "metadata": {
        "id": "kOK2oLYzCn5k"
      }
    },
    {
      "cell_type": "code",
      "source": [
        "#produced univariate visuals for the target and all features\n",
        "# Create a univariate visuals for the features\n",
        "\n",
        "# Perform Test-Train-Split\n",
        "X = df.drop(columns = ['Duration'])\n",
        "y = df['Duration']\n",
        "X_train, X_test, y_train, y_test = train_test_split(X, y, random_state=42)\n",
        "\n"
      ],
      "metadata": {
        "id": "kU3-L60bFKrC"
      },
      "execution_count": null,
      "outputs": []
    },
    {
      "cell_type": "markdown",
      "source": [
        "#NOTE:\n",
        "#This is to figure out the net sales of each agency"
      ],
      "metadata": {
        "id": "RAlVbJ8oCv17"
      }
    },
    {
      "cell_type": "code",
      "source": [
        "# Create categorical and numeric selectors\n",
        "cat_selector = make_column_selector(dtype_include='object')\n",
        "num_selector = make_column_selector(dtype_include='number')"
      ],
      "metadata": {
        "id": "w0a3YwtGFb77"
      },
      "execution_count": null,
      "outputs": []
    },
    {
      "cell_type": "code",
      "source": [
        "# Object initialization\n",
        "median_imputer = SimpleImputer(strategy = 'median')\n",
        "freq_imputer = SimpleImputer(strategy = 'most_frequent')\n",
        "scaler = StandardScaler()\n",
        "ohe_encoder = OneHotEncoder(sparse=False, handle_unknown='ignore')\n",
        "\n",
        "# Create pipeline for numeric columns\n",
        "num_pipe = make_pipeline(median_imputer, scaler)\n",
        "\n",
        "# Create pipeline for categorical columns\n",
        "cat_pipe = make_pipeline(freq_imputer, ohe_encoder)\n",
        "\n",
        "num_tuple = (num_pipe, num_selector)\n",
        "cat_tuple = (cat_pipe, cat_selector)\n",
        "\n",
        "# Create column transformers\n",
        "column_transformer = make_column_transformer(num_tuple, cat_tuple)\n",
        "column_transformer.fit(X_train)\n",
        "\n",
        "# Transform train and test set\n",
        "X_train_processed = column_transformer.transform(X_train)\n",
        "X_test_processed = column_transformer.transform(X_test)"
      ],
      "metadata": {
        "id": "7ySIUWxLFq2r"
      },
      "execution_count": null,
      "outputs": []
    },
    {
      "cell_type": "code",
      "source": [
        "# Create correlation heatmap\n",
        "fig, ax = plt.subplots(figsize=(15, 5))\n",
        "corr = X_train.corr()\n",
        "sns.heatmap(corr, cmap = 'coolwarm', annot = True)"
      ],
      "metadata": {
        "id": "kXyoB8IfFGJj",
        "colab": {
          "base_uri": "https://localhost:8080/",
          "height": 342
        },
        "outputId": "a75fff7a-ab2c-4da2-f71e-1f063d556235"
      },
      "execution_count": null,
      "outputs": [
        {
          "output_type": "execute_result",
          "data": {
            "text/plain": [
              "<matplotlib.axes._subplots.AxesSubplot at 0x7f724e0fe690>"
            ]
          },
          "metadata": {},
          "execution_count": 11
        },
        {
          "output_type": "display_data",
          "data": {
            "image/png": "[encoded data removed]",
            "text/plain": [
              "<Figure size 1080x360 with 2 Axes>"
            ]
          },
          "metadata": {
            "needs_background": "light"
          }
        }
      ]
    },
    {
      "cell_type": "code",
      "source": [
        "df=df.groupby(by=['Agency Type']).size().reset_index(name=\"counts\")\n",
        "plt.bar(df['Agency Type'], df['counts'], color ='red',width = 0.4)\n",
        "plt.xlabel(\"Agency Type\")\n",
        "plt.ylabel(\"Number of people insured\")\n",
        "plt.title(\"People insured under different Agency Type\")\n",
        "plt.show()\n",
        "\n",
        "# NOTE: To figure out the graph of Insured travellers where they get their travel insurance.\n",
        "# Range of 18,000-20,000 people who get their insurance via Airlines. Travellers who availed insurance\n",
        "# via Airline (or Direct) are usually do their itineraries.\n",
        "# Range of above 40,000 people via travel agency "
      ],
      "metadata": {
        "id": "YS87us3hGPFi",
        "colab": {
          "base_uri": "https://localhost:8080/",
          "height": 295
        },
        "outputId": "8d6a299e-994d-4e32-b2db-31db572d8b65"
      },
      "execution_count": null,
      "outputs": [
        {
          "output_type": "display_data",
          "data": {
            "image/png": "[encoded data removed]",
            "text/plain": [
              "<Figure size 432x288 with 1 Axes>"
            ]
          },
          "metadata": {
            "needs_background": "light"
          }
        }
      ]
    },
    {
      "cell_type": "markdown",
      "source": [
        "# NOTE: To figure out the graph of Insured travellers where they get their travel insurance.\n",
        "# Range of 18,000-20,000 people who get their insurance via Airlines. Travellers who availed insurance via Airline (or Direct) are usually do their itineraries.\n",
        "# Range of above 40,000 insured people via travel agency get their insurance. Travellers who usually avails "
      ],
      "metadata": {
        "id": "_kVnQ-Y_7LfC"
      }
    }
  ]
}