{
  "cells": [
    {
      "cell_type": "markdown",
      "metadata": {
        "id": "view-in-github",
        "colab_type": "text"
      },
      "source": [
        "<a href=\"https://colab.research.google.com/github/jessamcs/Project-2/blob/main/Project2_Part4_New.ipynb\" target=\"_parent\"><img src=\"https://colab.research.google.com/assets/colab-badge.svg\" alt=\"Open In Colab\"/></a>"
      ]
    },
    {
      "cell_type": "code",
      "execution_count": 1,
      "id": "bd5a4005",
      "metadata": {
        "execution": {
          "iopub.execute_input": "2021-09-17T02:18:59.747473Z",
          "iopub.status.busy": "2021-09-17T02:18:59.746812Z",
          "iopub.status.idle": "2021-09-17T02:19:02.717610Z",
          "shell.execute_reply": "2021-09-17T02:19:02.716884Z",
          "shell.execute_reply.started": "2021-09-14T10:11:57.753754Z"
        },
        "papermill": {
          "duration": 3.008976,
          "end_time": "2021-09-17T02:19:02.717798",
          "exception": false,
          "start_time": "2021-09-17T02:18:59.708822",
          "status": "completed"
        },
        "tags": [],
        "id": "bd5a4005"
      },
      "outputs": [],
      "source": [
        "import pandas as pd\n",
        "import numpy as np\n",
        "import plotly.express as px\n",
        "import seaborn as sns\n",
        "import matplotlib.pyplot as plt\n",
        "from palettable.colorbrewer.qualitative import Pastel1_7\n",
        "from sklearn.preprocessing import MinMaxScaler\n",
        "from imblearn.over_sampling import SMOTE \n",
        "from sklearn.model_selection import train_test_split\n",
        "from sklearn.ensemble import RandomForestClassifier\n",
        "from sklearn.metrics import accuracy_score, recall_score, confusion_matrix\n",
        "from sklearn.metrics import f1_score"
      ]
    },
    {
      "cell_type": "code",
      "execution_count": 2,
      "id": "5e711161",
      "metadata": {
        "execution": {
          "iopub.execute_input": "2021-09-17T02:19:02.791424Z",
          "iopub.status.busy": "2021-09-17T02:19:02.790771Z",
          "iopub.status.idle": "2021-09-17T02:19:02.966463Z",
          "shell.execute_reply": "2021-09-17T02:19:02.967006Z",
          "shell.execute_reply.started": "2021-09-14T10:12:02.358483Z"
        },
        "papermill": {
          "duration": 0.214336,
          "end_time": "2021-09-17T02:19:02.967212",
          "exception": false,
          "start_time": "2021-09-17T02:19:02.752876",
          "status": "completed"
        },
        "tags": [],
        "colab": {
          "base_uri": "https://localhost:8080/",
          "height": 354
        },
        "id": "5e711161",
        "outputId": "35fad18b-5147-4641-f214-b464af3c1997"
      },
      "outputs": [
        {
          "output_type": "execute_result",
          "data": {
            "text/html": [
              "\n",
              "  <div id=\"df-947e6800-c9d8-4339-849e-a28aad03b437\">\n",
              "    <div class=\"colab-df-container\">\n",
              "      <div>\n",
              "<style scoped>\n",
              "    .dataframe tbody tr th:only-of-type {\n",
              "        vertical-align: middle;\n",
              "    }\n",
              "\n",
              "    .dataframe tbody tr th {\n",
              "        vertical-align: top;\n",
              "    }\n",
              "\n",
              "    .dataframe thead th {\n",
              "        text-align: right;\n",
              "    }\n",
              "</style>\n",
              "<table border=\"1\" class=\"dataframe\">\n",
              "  <thead>\n",
              "    <tr style=\"text-align: right;\">\n",
              "      <th></th>\n",
              "      <th>Agency</th>\n",
              "      <th>Agency Type</th>\n",
              "      <th>Distribution Channel</th>\n",
              "      <th>Product Name</th>\n",
              "      <th>Claim</th>\n",
              "      <th>Duration</th>\n",
              "      <th>Destination</th>\n",
              "      <th>Net Sales</th>\n",
              "      <th>Commision (in value)</th>\n",
              "      <th>Gender</th>\n",
              "      <th>Age</th>\n",
              "    </tr>\n",
              "  </thead>\n",
              "  <tbody>\n",
              "    <tr>\n",
              "      <th>0</th>\n",
              "      <td>CBH</td>\n",
              "      <td>Travel Agency</td>\n",
              "      <td>Offline</td>\n",
              "      <td>Comprehensive Plan</td>\n",
              "      <td>No</td>\n",
              "      <td>186</td>\n",
              "      <td>MALAYSIA</td>\n",
              "      <td>-29.0</td>\n",
              "      <td>9.57</td>\n",
              "      <td>F</td>\n",
              "      <td>81</td>\n",
              "    </tr>\n",
              "    <tr>\n",
              "      <th>1</th>\n",
              "      <td>CBH</td>\n",
              "      <td>Travel Agency</td>\n",
              "      <td>Offline</td>\n",
              "      <td>Comprehensive Plan</td>\n",
              "      <td>No</td>\n",
              "      <td>186</td>\n",
              "      <td>MALAYSIA</td>\n",
              "      <td>-29.0</td>\n",
              "      <td>9.57</td>\n",
              "      <td>F</td>\n",
              "      <td>71</td>\n",
              "    </tr>\n",
              "    <tr>\n",
              "      <th>2</th>\n",
              "      <td>CWT</td>\n",
              "      <td>Travel Agency</td>\n",
              "      <td>Online</td>\n",
              "      <td>Rental Vehicle Excess Insurance</td>\n",
              "      <td>No</td>\n",
              "      <td>65</td>\n",
              "      <td>AUSTRALIA</td>\n",
              "      <td>-49.5</td>\n",
              "      <td>29.70</td>\n",
              "      <td>NaN</td>\n",
              "      <td>32</td>\n",
              "    </tr>\n",
              "    <tr>\n",
              "      <th>3</th>\n",
              "      <td>CWT</td>\n",
              "      <td>Travel Agency</td>\n",
              "      <td>Online</td>\n",
              "      <td>Rental Vehicle Excess Insurance</td>\n",
              "      <td>No</td>\n",
              "      <td>60</td>\n",
              "      <td>AUSTRALIA</td>\n",
              "      <td>-39.6</td>\n",
              "      <td>23.76</td>\n",
              "      <td>NaN</td>\n",
              "      <td>32</td>\n",
              "    </tr>\n",
              "    <tr>\n",
              "      <th>4</th>\n",
              "      <td>CWT</td>\n",
              "      <td>Travel Agency</td>\n",
              "      <td>Online</td>\n",
              "      <td>Rental Vehicle Excess Insurance</td>\n",
              "      <td>No</td>\n",
              "      <td>79</td>\n",
              "      <td>ITALY</td>\n",
              "      <td>-19.8</td>\n",
              "      <td>11.88</td>\n",
              "      <td>NaN</td>\n",
              "      <td>41</td>\n",
              "    </tr>\n",
              "  </tbody>\n",
              "</table>\n",
              "</div>\n",
              "      <button class=\"colab-df-convert\" onclick=\"convertToInteractive('df-947e6800-c9d8-4339-849e-a28aad03b437')\"\n",
              "              title=\"Convert this dataframe to an interactive table.\"\n",
              "              style=\"display:none;\">\n",
              "        \n",
              "  <svg xmlns=\"http://www.w3.org/2000/svg\" height=\"24px\"viewBox=\"0 0 24 24\"\n",
              "       width=\"24px\">\n",
              "    <path d=\"M0 0h24v24H0V0z\" fill=\"none\"/>\n",
              "    <path d=\"M18.56 5.44l.94 2.06.94-2.06 2.06-.94-2.06-.94-.94-2.06-.94 2.06-2.06.94zm-11 1L8.5 8.5l.94-2.06 2.06-.94-2.06-.94L8.5 2.5l-.94 2.06-2.06.94zm10 10l.94 2.06.94-2.06 2.06-.94-2.06-.94-.94-2.06-.94 2.06-2.06.94z\"/><path d=\"M17.41 7.96l-1.37-1.37c-.4-.4-.92-.59-1.43-.59-.52 0-1.04.2-1.43.59L10.3 9.45l-7.72 7.72c-.78.78-.78 2.05 0 2.83L4 21.41c.39.39.9.59 1.41.59.51 0 1.02-.2 1.41-.59l7.78-7.78 2.81-2.81c.8-.78.8-2.07 0-2.86zM5.41 20L4 18.59l7.72-7.72 1.47 1.35L5.41 20z\"/>\n",
              "  </svg>\n",
              "      </button>\n",
              "      \n",
              "  <style>\n",
              "    .colab-df-container {\n",
              "      display:flex;\n",
              "      flex-wrap:wrap;\n",
              "      gap: 12px;\n",
              "    }\n",
              "\n",
              "    .colab-df-convert {\n",
              "      background-color: #E8F0FE;\n",
              "      border: none;\n",
              "      border-radius: 50%;\n",
              "      cursor: pointer;\n",
              "      display: none;\n",
              "      fill: #1967D2;\n",
              "      height: 32px;\n",
              "      padding: 0 0 0 0;\n",
              "      width: 32px;\n",
              "    }\n",
              "\n",
              "    .colab-df-convert:hover {\n",
              "      background-color: #E2EBFA;\n",
              "      box-shadow: 0px 1px 2px rgba(60, 64, 67, 0.3), 0px 1px 3px 1px rgba(60, 64, 67, 0.15);\n",
              "      fill: #174EA6;\n",
              "    }\n",
              "\n",
              "    [theme=dark] .colab-df-convert {\n",
              "      background-color: #3B4455;\n",
              "      fill: #D2E3FC;\n",
              "    }\n",
              "\n",
              "    [theme=dark] .colab-df-convert:hover {\n",
              "      background-color: #434B5C;\n",
              "      box-shadow: 0px 1px 3px 1px rgba(0, 0, 0, 0.15);\n",
              "      filter: drop-shadow(0px 1px 2px rgba(0, 0, 0, 0.3));\n",
              "      fill: #FFFFFF;\n",
              "    }\n",
              "  </style>\n",
              "\n",
              "      <script>\n",
              "        const buttonEl =\n",
              "          document.querySelector('#df-947e6800-c9d8-4339-849e-a28aad03b437 button.colab-df-convert');\n",
              "        buttonEl.style.display =\n",
              "          google.colab.kernel.accessAllowed ? 'block' : 'none';\n",
              "\n",
              "        async function convertToInteractive(key) {\n",
              "          const element = document.querySelector('#df-947e6800-c9d8-4339-849e-a28aad03b437');\n",
              "          const dataTable =\n",
              "            await google.colab.kernel.invokeFunction('convertToInteractive',\n",
              "                                                     [key], {});\n",
              "          if (!dataTable) return;\n",
              "\n",
              "          const docLinkHtml = 'Like what you see? Visit the ' +\n",
              "            '<a target=\"_blank\" href=https://colab.research.google.com/notebooks/data_table.ipynb>data table notebook</a>'\n",
              "            + ' to learn more about interactive tables.';\n",
              "          element.innerHTML = '';\n",
              "          dataTable['output_type'] = 'display_data';\n",
              "          await google.colab.output.renderOutput(dataTable, element);\n",
              "          const docLink = document.createElement('div');\n",
              "          docLink.innerHTML = docLinkHtml;\n",
              "          element.appendChild(docLink);\n",
              "        }\n",
              "      </script>\n",
              "    </div>\n",
              "  </div>\n",
              "  "
            ],
            "text/plain": [
              "  Agency    Agency Type Distribution Channel  ... Commision (in value) Gender  Age\n",
              "0    CBH  Travel Agency              Offline  ...                 9.57      F   81\n",
              "1    CBH  Travel Agency              Offline  ...                 9.57      F   71\n",
              "2    CWT  Travel Agency               Online  ...                29.70    NaN   32\n",
              "3    CWT  Travel Agency               Online  ...                23.76    NaN   32\n",
              "4    CWT  Travel Agency               Online  ...                11.88    NaN   41\n",
              "\n",
              "[5 rows x 11 columns]"
            ]
          },
          "metadata": {},
          "execution_count": 2
        }
      ],
      "source": [
        "df=pd.read_csv('/content/travel insurance.csv')\n",
        "df.head()"
      ]
    },
    {
      "cell_type": "code",
      "execution_count": 3,
      "id": "4f412286",
      "metadata": {
        "execution": {
          "iopub.execute_input": "2021-09-17T02:19:03.044656Z",
          "iopub.status.busy": "2021-09-17T02:19:03.043748Z",
          "iopub.status.idle": "2021-09-17T02:19:03.047956Z",
          "shell.execute_reply": "2021-09-17T02:19:03.047284Z",
          "shell.execute_reply.started": "2021-09-14T10:12:04.583595Z"
        },
        "papermill": {
          "duration": 0.045682,
          "end_time": "2021-09-17T02:19:03.048118",
          "exception": false,
          "start_time": "2021-09-17T02:19:03.002436",
          "status": "completed"
        },
        "tags": [],
        "colab": {
          "base_uri": "https://localhost:8080/"
        },
        "id": "4f412286",
        "outputId": "bcf58836-c1be-4144-9c1d-a244408c20ff"
      },
      "outputs": [
        {
          "output_type": "execute_result",
          "data": {
            "text/plain": [
              "(63326, 11)"
            ]
          },
          "metadata": {},
          "execution_count": 3
        }
      ],
      "source": [
        "df.shape"
      ]
    },
    {
      "cell_type": "markdown",
      "id": "34f8f762",
      "metadata": {
        "papermill": {
          "duration": 0.035788,
          "end_time": "2021-09-17T02:19:03.121706",
          "exception": false,
          "start_time": "2021-09-17T02:19:03.085918",
          "status": "completed"
        },
        "tags": [],
        "id": "34f8f762"
      },
      "source": [
        "*Dataset has 11 columns and 63326 rows. Out of the 11 columns, Claim is a target variable.*"
      ]
    },
    {
      "cell_type": "code",
      "execution_count": 4,
      "id": "71c982ee",
      "metadata": {
        "execution": {
          "iopub.execute_input": "2021-09-17T02:19:03.202675Z",
          "iopub.status.busy": "2021-09-17T02:19:03.201633Z",
          "iopub.status.idle": "2021-09-17T02:19:03.204681Z",
          "shell.execute_reply": "2021-09-17T02:19:03.205128Z",
          "shell.execute_reply.started": "2021-09-14T10:12:06.904014Z"
        },
        "papermill": {
          "duration": 0.045608,
          "end_time": "2021-09-17T02:19:03.205314",
          "exception": false,
          "start_time": "2021-09-17T02:19:03.159706",
          "status": "completed"
        },
        "tags": [],
        "colab": {
          "base_uri": "https://localhost:8080/"
        },
        "id": "71c982ee",
        "outputId": "0b73335b-92fe-4d52-9c47-943f9e9f0bac"
      },
      "outputs": [
        {
          "output_type": "execute_result",
          "data": {
            "text/plain": [
              "Index(['Agency', 'Agency Type', 'Distribution Channel', 'Product Name',\n",
              "       'Claim', 'Duration', 'Destination', 'Net Sales', 'Commision (in value)',\n",
              "       'Gender', 'Age'],\n",
              "      dtype='object')"
            ]
          },
          "metadata": {},
          "execution_count": 4
        }
      ],
      "source": [
        "df.columns"
      ]
    },
    {
      "cell_type": "markdown",
      "id": "6446d7e8",
      "metadata": {
        "papermill": {
          "duration": 0.035378,
          "end_time": "2021-09-17T02:19:03.276546",
          "exception": false,
          "start_time": "2021-09-17T02:19:03.241168",
          "status": "completed"
        },
        "tags": [],
        "id": "6446d7e8"
      },
      "source": [
        "All the column names are listed above. Since there is whitespace between the 2 word column names, let's rename the column names to avoid any naming issues."
      ]
    },
    {
      "cell_type": "code",
      "execution_count": 5,
      "id": "121db846",
      "metadata": {
        "execution": {
          "iopub.execute_input": "2021-09-17T02:19:03.352951Z",
          "iopub.status.busy": "2021-09-17T02:19:03.352141Z",
          "iopub.status.idle": "2021-09-17T02:19:03.360905Z",
          "shell.execute_reply": "2021-09-17T02:19:03.360354Z",
          "shell.execute_reply.started": "2021-09-14T10:12:10.264115Z"
        },
        "papermill": {
          "duration": 0.047958,
          "end_time": "2021-09-17T02:19:03.361068",
          "exception": false,
          "start_time": "2021-09-17T02:19:03.313110",
          "status": "completed"
        },
        "tags": [],
        "id": "121db846"
      },
      "outputs": [],
      "source": [
        "df.rename(columns={ 'Agency Type':'Agency_Type', 'Distribution Channel':'Distribution_Channel', 'Product Name':'Product_Name','Net Sales':'Net_Sales', 'Commision (in value)':'Commision'},inplace=True)"
      ]
    },
    {
      "cell_type": "markdown",
      "id": "11474115",
      "metadata": {
        "papermill": {
          "duration": 0.035206,
          "end_time": "2021-09-17T02:19:03.432149",
          "exception": false,
          "start_time": "2021-09-17T02:19:03.396943",
          "status": "completed"
        },
        "tags": [],
        "id": "11474115"
      },
      "source": [
        "The necessary columns have been successfully renamed."
      ]
    },
    {
      "cell_type": "code",
      "execution_count": 6,
      "id": "d6a63973",
      "metadata": {
        "execution": {
          "iopub.execute_input": "2021-09-17T02:19:03.533428Z",
          "iopub.status.busy": "2021-09-17T02:19:03.513676Z",
          "iopub.status.idle": "2021-09-17T02:19:03.552500Z",
          "shell.execute_reply": "2021-09-17T02:19:03.552950Z",
          "shell.execute_reply.started": "2021-09-14T10:12:12.573135Z"
        },
        "papermill": {
          "duration": 0.083707,
          "end_time": "2021-09-17T02:19:03.553146",
          "exception": false,
          "start_time": "2021-09-17T02:19:03.469439",
          "status": "completed"
        },
        "tags": [],
        "colab": {
          "base_uri": "https://localhost:8080/"
        },
        "id": "d6a63973",
        "outputId": "885bd8d5-3680-4925-f3a1-39911e99d881"
      },
      "outputs": [
        {
          "output_type": "stream",
          "name": "stdout",
          "text": [
            "<class 'pandas.core.frame.DataFrame'>\n",
            "RangeIndex: 63326 entries, 0 to 63325\n",
            "Data columns (total 11 columns):\n",
            " #   Column                Non-Null Count  Dtype  \n",
            "---  ------                --------------  -----  \n",
            " 0   Agency                63326 non-null  object \n",
            " 1   Agency_Type           63326 non-null  object \n",
            " 2   Distribution_Channel  63326 non-null  object \n",
            " 3   Product_Name          63326 non-null  object \n",
            " 4   Claim                 63326 non-null  object \n",
            " 5   Duration              63326 non-null  int64  \n",
            " 6   Destination           63326 non-null  object \n",
            " 7   Net_Sales             63326 non-null  float64\n",
            " 8   Commision             63326 non-null  float64\n",
            " 9   Gender                18219 non-null  object \n",
            " 10  Age                   63326 non-null  int64  \n",
            "dtypes: float64(2), int64(2), object(7)\n",
            "memory usage: 5.3+ MB\n"
          ]
        }
      ],
      "source": [
        "df.info()"
      ]
    },
    {
      "cell_type": "markdown",
      "id": "1a1e455a",
      "metadata": {
        "papermill": {
          "duration": 0.035583,
          "end_time": "2021-09-17T02:19:03.624631",
          "exception": false,
          "start_time": "2021-09-17T02:19:03.589048",
          "status": "completed"
        },
        "tags": [],
        "id": "1a1e455a"
      },
      "source": [
        "From the info, we know that there are 4 numerical columns while 7 are categorical."
      ]
    },
    {
      "cell_type": "markdown",
      "id": "5db10a23",
      "metadata": {
        "papermill": {
          "duration": 0.035443,
          "end_time": "2021-09-17T02:19:03.697003",
          "exception": false,
          "start_time": "2021-09-17T02:19:03.661560",
          "status": "completed"
        },
        "tags": [],
        "id": "5db10a23"
      },
      "source": [
        ""
      ]
    },
    {
      "cell_type": "code",
      "execution_count": 7,
      "id": "76eb0d42",
      "metadata": {
        "execution": {
          "iopub.execute_input": "2021-09-17T02:19:03.773089Z",
          "iopub.status.busy": "2021-09-17T02:19:03.772446Z",
          "iopub.status.idle": "2021-09-17T02:19:03.801490Z",
          "shell.execute_reply": "2021-09-17T02:19:03.802013Z",
          "shell.execute_reply.started": "2021-09-14T10:12:15.043711Z"
        },
        "papermill": {
          "duration": 0.069083,
          "end_time": "2021-09-17T02:19:03.802197",
          "exception": false,
          "start_time": "2021-09-17T02:19:03.733114",
          "status": "completed"
        },
        "tags": [],
        "colab": {
          "base_uri": "https://localhost:8080/"
        },
        "id": "76eb0d42",
        "outputId": "532fe7c7-870c-4a69-c1e8-77c28648e636"
      },
      "outputs": [
        {
          "output_type": "execute_result",
          "data": {
            "text/plain": [
              "<bound method NDFrame._add_numeric_operations.<locals>.any of Agency                      0\n",
              "Agency_Type                 0\n",
              "Distribution_Channel        0\n",
              "Product_Name                0\n",
              "Claim                       0\n",
              "Duration                    0\n",
              "Destination                 0\n",
              "Net_Sales                   0\n",
              "Commision                   0\n",
              "Gender                  45107\n",
              "Age                         0\n",
              "dtype: int64>"
            ]
          },
          "metadata": {},
          "execution_count": 7
        }
      ],
      "source": [
        "df.isnull().sum().any\n"
      ]
    },
    {
      "cell_type": "code",
      "execution_count": 8,
      "id": "6063128b",
      "metadata": {
        "execution": {
          "iopub.execute_input": "2021-09-17T02:19:03.878600Z",
          "iopub.status.busy": "2021-09-17T02:19:03.877953Z",
          "iopub.status.idle": "2021-09-17T02:19:03.898914Z",
          "shell.execute_reply": "2021-09-17T02:19:03.899473Z",
          "shell.execute_reply.started": "2021-09-14T10:12:19.213926Z"
        },
        "papermill": {
          "duration": 0.060869,
          "end_time": "2021-09-17T02:19:03.899683",
          "exception": false,
          "start_time": "2021-09-17T02:19:03.838814",
          "status": "completed"
        },
        "tags": [],
        "colab": {
          "base_uri": "https://localhost:8080/",
          "height": 206
        },
        "id": "6063128b",
        "outputId": "e4bb923a-db4d-4525-9fe2-a9d0d0fe672e"
      },
      "outputs": [
        {
          "output_type": "execute_result",
          "data": {
            "text/html": [
              "\n",
              "  <div id=\"df-670c1df5-0411-4459-ad95-6d61a25bafdc\">\n",
              "    <div class=\"colab-df-container\">\n",
              "      <div>\n",
              "<style scoped>\n",
              "    .dataframe tbody tr th:only-of-type {\n",
              "        vertical-align: middle;\n",
              "    }\n",
              "\n",
              "    .dataframe tbody tr th {\n",
              "        vertical-align: top;\n",
              "    }\n",
              "\n",
              "    .dataframe thead th {\n",
              "        text-align: right;\n",
              "    }\n",
              "</style>\n",
              "<table border=\"1\" class=\"dataframe\">\n",
              "  <thead>\n",
              "    <tr style=\"text-align: right;\">\n",
              "      <th></th>\n",
              "      <th>Agency</th>\n",
              "      <th>Agency_Type</th>\n",
              "      <th>Distribution_Channel</th>\n",
              "      <th>Product_Name</th>\n",
              "      <th>Claim</th>\n",
              "      <th>Destination</th>\n",
              "      <th>Net_Sales</th>\n",
              "      <th>Commision</th>\n",
              "      <th>Age</th>\n",
              "    </tr>\n",
              "  </thead>\n",
              "  <tbody>\n",
              "    <tr>\n",
              "      <th>0</th>\n",
              "      <td>CBH</td>\n",
              "      <td>Travel Agency</td>\n",
              "      <td>Offline</td>\n",
              "      <td>Comprehensive Plan</td>\n",
              "      <td>No</td>\n",
              "      <td>MALAYSIA</td>\n",
              "      <td>-29.0</td>\n",
              "      <td>9.57</td>\n",
              "      <td>81</td>\n",
              "    </tr>\n",
              "    <tr>\n",
              "      <th>1</th>\n",
              "      <td>CBH</td>\n",
              "      <td>Travel Agency</td>\n",
              "      <td>Offline</td>\n",
              "      <td>Comprehensive Plan</td>\n",
              "      <td>No</td>\n",
              "      <td>MALAYSIA</td>\n",
              "      <td>-29.0</td>\n",
              "      <td>9.57</td>\n",
              "      <td>71</td>\n",
              "    </tr>\n",
              "    <tr>\n",
              "      <th>2</th>\n",
              "      <td>CWT</td>\n",
              "      <td>Travel Agency</td>\n",
              "      <td>Online</td>\n",
              "      <td>Rental Vehicle Excess Insurance</td>\n",
              "      <td>No</td>\n",
              "      <td>AUSTRALIA</td>\n",
              "      <td>-49.5</td>\n",
              "      <td>29.70</td>\n",
              "      <td>32</td>\n",
              "    </tr>\n",
              "    <tr>\n",
              "      <th>3</th>\n",
              "      <td>CWT</td>\n",
              "      <td>Travel Agency</td>\n",
              "      <td>Online</td>\n",
              "      <td>Rental Vehicle Excess Insurance</td>\n",
              "      <td>No</td>\n",
              "      <td>AUSTRALIA</td>\n",
              "      <td>-39.6</td>\n",
              "      <td>23.76</td>\n",
              "      <td>32</td>\n",
              "    </tr>\n",
              "    <tr>\n",
              "      <th>4</th>\n",
              "      <td>CWT</td>\n",
              "      <td>Travel Agency</td>\n",
              "      <td>Online</td>\n",
              "      <td>Rental Vehicle Excess Insurance</td>\n",
              "      <td>No</td>\n",
              "      <td>ITALY</td>\n",
              "      <td>-19.8</td>\n",
              "      <td>11.88</td>\n",
              "      <td>41</td>\n",
              "    </tr>\n",
              "  </tbody>\n",
              "</table>\n",
              "</div>\n",
              "      <button class=\"colab-df-convert\" onclick=\"convertToInteractive('df-670c1df5-0411-4459-ad95-6d61a25bafdc')\"\n",
              "              title=\"Convert this dataframe to an interactive table.\"\n",
              "              style=\"display:none;\">\n",
              "        \n",
              "  <svg xmlns=\"http://www.w3.org/2000/svg\" height=\"24px\"viewBox=\"0 0 24 24\"\n",
              "       width=\"24px\">\n",
              "    <path d=\"M0 0h24v24H0V0z\" fill=\"none\"/>\n",
              "    <path d=\"M18.56 5.44l.94 2.06.94-2.06 2.06-.94-2.06-.94-.94-2.06-.94 2.06-2.06.94zm-11 1L8.5 8.5l.94-2.06 2.06-.94-2.06-.94L8.5 2.5l-.94 2.06-2.06.94zm10 10l.94 2.06.94-2.06 2.06-.94-2.06-.94-.94-2.06-.94 2.06-2.06.94z\"/><path d=\"M17.41 7.96l-1.37-1.37c-.4-.4-.92-.59-1.43-.59-.52 0-1.04.2-1.43.59L10.3 9.45l-7.72 7.72c-.78.78-.78 2.05 0 2.83L4 21.41c.39.39.9.59 1.41.59.51 0 1.02-.2 1.41-.59l7.78-7.78 2.81-2.81c.8-.78.8-2.07 0-2.86zM5.41 20L4 18.59l7.72-7.72 1.47 1.35L5.41 20z\"/>\n",
              "  </svg>\n",
              "      </button>\n",
              "      \n",
              "  <style>\n",
              "    .colab-df-container {\n",
              "      display:flex;\n",
              "      flex-wrap:wrap;\n",
              "      gap: 12px;\n",
              "    }\n",
              "\n",
              "    .colab-df-convert {\n",
              "      background-color: #E8F0FE;\n",
              "      border: none;\n",
              "      border-radius: 50%;\n",
              "      cursor: pointer;\n",
              "      display: none;\n",
              "      fill: #1967D2;\n",
              "      height: 32px;\n",
              "      padding: 0 0 0 0;\n",
              "      width: 32px;\n",
              "    }\n",
              "\n",
              "    .colab-df-convert:hover {\n",
              "      background-color: #E2EBFA;\n",
              "      box-shadow: 0px 1px 2px rgba(60, 64, 67, 0.3), 0px 1px 3px 1px rgba(60, 64, 67, 0.15);\n",
              "      fill: #174EA6;\n",
              "    }\n",
              "\n",
              "    [theme=dark] .colab-df-convert {\n",
              "      background-color: #3B4455;\n",
              "      fill: #D2E3FC;\n",
              "    }\n",
              "\n",
              "    [theme=dark] .colab-df-convert:hover {\n",
              "      background-color: #434B5C;\n",
              "      box-shadow: 0px 1px 3px 1px rgba(0, 0, 0, 0.15);\n",
              "      filter: drop-shadow(0px 1px 2px rgba(0, 0, 0, 0.3));\n",
              "      fill: #FFFFFF;\n",
              "    }\n",
              "  </style>\n",
              "\n",
              "      <script>\n",
              "        const buttonEl =\n",
              "          document.querySelector('#df-670c1df5-0411-4459-ad95-6d61a25bafdc button.colab-df-convert');\n",
              "        buttonEl.style.display =\n",
              "          google.colab.kernel.accessAllowed ? 'block' : 'none';\n",
              "\n",
              "        async function convertToInteractive(key) {\n",
              "          const element = document.querySelector('#df-670c1df5-0411-4459-ad95-6d61a25bafdc');\n",
              "          const dataTable =\n",
              "            await google.colab.kernel.invokeFunction('convertToInteractive',\n",
              "                                                     [key], {});\n",
              "          if (!dataTable) return;\n",
              "\n",
              "          const docLinkHtml = 'Like what you see? Visit the ' +\n",
              "            '<a target=\"_blank\" href=https://colab.research.google.com/notebooks/data_table.ipynb>data table notebook</a>'\n",
              "            + ' to learn more about interactive tables.';\n",
              "          element.innerHTML = '';\n",
              "          dataTable['output_type'] = 'display_data';\n",
              "          await google.colab.output.renderOutput(dataTable, element);\n",
              "          const docLink = document.createElement('div');\n",
              "          docLink.innerHTML = docLinkHtml;\n",
              "          element.appendChild(docLink);\n",
              "        }\n",
              "      </script>\n",
              "    </div>\n",
              "  </div>\n",
              "  "
            ],
            "text/plain": [
              "  Agency    Agency_Type Distribution_Channel  ... Net_Sales Commision Age\n",
              "0    CBH  Travel Agency              Offline  ...     -29.0      9.57  81\n",
              "1    CBH  Travel Agency              Offline  ...     -29.0      9.57  71\n",
              "2    CWT  Travel Agency               Online  ...     -49.5     29.70  32\n",
              "3    CWT  Travel Agency               Online  ...     -39.6     23.76  32\n",
              "4    CWT  Travel Agency               Online  ...     -19.8     11.88  41\n",
              "\n",
              "[5 rows x 9 columns]"
            ]
          },
          "metadata": {},
          "execution_count": 8
        }
      ],
      "source": [
        "df=df.drop(['Gender', 'Duration'], axis=1)\n",
        "df.head()"
      ]
    },
    {
      "cell_type": "markdown",
      "id": "84f0b708",
      "metadata": {
        "papermill": {
          "duration": 0.036299,
          "end_time": "2021-09-17T02:19:03.973175",
          "exception": false,
          "start_time": "2021-09-17T02:19:03.936876",
          "status": "completed"
        },
        "tags": [],
        "id": "84f0b708"
      },
      "source": [
        "The Gender column has been dropped since majority of its values are null."
      ]
    },
    {
      "cell_type": "code",
      "execution_count": null,
      "id": "9ae62d11",
      "metadata": {
        "execution": {
          "iopub.execute_input": "2021-09-17T02:19:04.064651Z",
          "iopub.status.busy": "2021-09-17T02:19:04.060229Z",
          "iopub.status.idle": "2021-09-17T02:19:04.096091Z",
          "shell.execute_reply": "2021-09-17T02:19:04.094469Z",
          "shell.execute_reply.started": "2021-09-14T10:12:23.203524Z"
        },
        "papermill": {
          "duration": 0.085764,
          "end_time": "2021-09-17T02:19:04.096278",
          "exception": false,
          "start_time": "2021-09-17T02:19:04.010514",
          "status": "completed"
        },
        "tags": [],
        "id": "9ae62d11"
      },
      "outputs": [],
      "source": [
        "column_keys=df.select_dtypes(include=['object']).columns.tolist()\n",
        "for key in column_keys:\n",
        "    print('Unique elements of',key,'are: ')\n",
        "    print(df[key].unique(),end='\\n')\n",
        "    print(end='\\n')"
      ]
    },
    {
      "cell_type": "code",
      "execution_count": 10,
      "id": "fb467153",
      "metadata": {
        "execution": {
          "iopub.execute_input": "2021-09-17T02:19:04.184113Z",
          "iopub.status.busy": "2021-09-17T02:19:04.183397Z",
          "iopub.status.idle": "2021-09-17T02:19:05.371310Z",
          "shell.execute_reply": "2021-09-17T02:19:05.370809Z",
          "shell.execute_reply.started": "2021-09-14T10:12:26.278572Z"
        },
        "papermill": {
          "duration": 1.235984,
          "end_time": "2021-09-17T02:19:05.371466",
          "exception": false,
          "start_time": "2021-09-17T02:19:04.135482",
          "status": "completed"
        },
        "tags": [],
        "colab": {
          "base_uri": "https://localhost:8080/",
          "height": 542
        },
        "id": "fb467153",
        "outputId": "f6c4f554-38b9-418c-fbc3-695266e546fe"
      },
      "outputs": [
        {
          "output_type": "display_data",
          "data": {
            "text/html": [
              "<html>\n",
              "<head><meta charset=\"utf-8\" /></head>\n",
              "<body>\n",
              "    <div>            <script src=\"https://cdnjs.cloudflare.com/ajax/libs/mathjax/2.7.5/MathJax.js?config=TeX-AMS-MML_SVG\"></script><script type=\"text/javascript\">if (window.MathJax) {MathJax.Hub.Config({SVG: {font: \"STIX-Web\"}});}</script>                <script type=\"text/javascript\">window.PlotlyConfig = {MathJaxConfig: 'local'};</script>\n",
              "        <script src=\"https://cdn.plot.ly/plotly-2.8.3.min.js\"></script>                <div id=\"27e8befa-ee6c-4c1d-87d2-c398614b4425\" class=\"plotly-graph-div\" style=\"height:525px; width:100%;\"></div>            <script type=\"text/javascript\">                                    window.PLOTLYENV=window.PLOTLYENV || {};                                    if (document.getElementById(\"27e8befa-ee6c-4c1d-87d2-c398614b4425\")) {                    Plotly.newPlot(                        \"27e8befa-ee6c-4c1d-87d2-c398614b4425\",                        [{\"domain\":{\"x\":[0.0,1.0],\"y\":[0.0,1.0]},\"hovertemplate\":\"DestinationNew=%{label}<br>counts=%{value}<extra></extra>\",\"labels\":[\"Others\",\"Others\",\"Others\",\"Others\",\"AUSTRALIA\",\"Others\",\"Others\",\"Others\",\"Others\",\"Others\",\"Others\",\"Others\",\"Others\",\"Others\",\"Others\",\"Others\",\"Others\",\"Others\",\"Others\",\"Others\",\"Others\",\"Others\",\"Others\",\"Others\",\"Others\",\"Others\",\"CHINA\",\"Others\",\"Others\",\"Others\",\"Others\",\"Others\",\"Others\",\"Others\",\"Others\",\"Others\",\"Others\",\"Others\",\"Others\",\"Others\",\"Others\",\"Others\",\"Others\",\"Others\",\"Others\",\"Others\",\"Others\",\"Others\",\"Others\",\"Others\",\"Others\",\"Others\",\"Others\",\"HONG KONG\",\"Others\",\"Others\",\"INDIA\",\"INDONESIA\",\"Others\",\"Others\",\"Others\",\"Others\",\"Others\",\"JAPAN\",\"Others\",\"Others\",\"Others\",\"Others\",\"KOREA, REPUBLIC OF\",\"Others\",\"Others\",\"Others\",\"Others\",\"Others\",\"Others\",\"Others\",\"Others\",\"Others\",\"Others\",\"MALAYSIA\",\"Others\",\"Others\",\"Others\",\"Others\",\"Others\",\"Others\",\"Others\",\"Others\",\"Others\",\"Others\",\"Others\",\"Others\",\"Others\",\"Others\",\"Others\",\"Others\",\"Others\",\"Others\",\"Others\",\"Others\",\"Others\",\"Others\",\"PHILIPPINES\",\"Others\",\"Others\",\"Others\",\"Others\",\"Others\",\"Others\",\"Others\",\"Others\",\"Others\",\"Others\",\"Others\",\"Others\",\"Others\",\"Others\",\"Others\",\"SINGAPORE\",\"Others\",\"Others\",\"Others\",\"Others\",\"Others\",\"Others\",\"Others\",\"Others\",\"Others\",\"Others\",\"THAILAND\",\"Others\",\"Others\",\"Others\",\"Others\",\"Others\",\"Others\",\"Others\",\"Others\",\"Others\",\"UNITED KINGDOM\",\"UNITED STATES\",\"Others\",\"Others\",\"Others\",\"Others\",\"VIET NAM\",\"Others\",\"Others\",\"Others\"],\"legendgroup\":\"\",\"name\":\"\",\"showlegend\":true,\"values\":[1,1,22,1,3694,102,8,13,101,1,3,46,1,3,4,10,1,1,37,780,12,493,1,528,2,12,4796,15,7,56,15,69,105,1,7,21,9,6,3,13,96,483,2,15,456,5,110,1,9,1,4,1,2,2411,23,117,2251,3452,3,123,48,455,3,2061,16,15,21,1,1479,8,6,149,3,5,1,5,9,110,3,5930,25,2,11,11,33,1,44,15,806,5,120,375,1,537,1,2,164,18,29,4,11,92,2490,34,96,3,17,1,2,23,80,1,1,62,1,7,1,1,13255,10,1,162,337,256,64,283,1090,1,21,5894,1,4,7,80,2,1,4,10,286,1309,2530,1,10,5,5,1669,1,3,3],\"type\":\"pie\"}],                        {\"template\":{\"data\":{\"bar\":[{\"error_x\":{\"color\":\"#2a3f5f\"},\"error_y\":{\"color\":\"#2a3f5f\"},\"marker\":{\"line\":{\"color\":\"#E5ECF6\",\"width\":0.5},\"pattern\":{\"fillmode\":\"overlay\",\"size\":10,\"solidity\":0.2}},\"type\":\"bar\"}],\"barpolar\":[{\"marker\":{\"line\":{\"color\":\"#E5ECF6\",\"width\":0.5},\"pattern\":{\"fillmode\":\"overlay\",\"size\":10,\"solidity\":0.2}},\"type\":\"barpolar\"}],\"carpet\":[{\"aaxis\":{\"endlinecolor\":\"#2a3f5f\",\"gridcolor\":\"white\",\"linecolor\":\"white\",\"minorgridcolor\":\"white\",\"startlinecolor\":\"#2a3f5f\"},\"baxis\":{\"endlinecolor\":\"#2a3f5f\",\"gridcolor\":\"white\",\"linecolor\":\"white\",\"minorgridcolor\":\"white\",\"startlinecolor\":\"#2a3f5f\"},\"type\":\"carpet\"}],\"choropleth\":[{\"colorbar\":{\"outlinewidth\":0,\"ticks\":\"\"},\"type\":\"choropleth\"}],\"contour\":[{\"colorbar\":{\"outlinewidth\":0,\"ticks\":\"\"},\"colorscale\":[[0.0,\"#0d0887\"],[0.1111111111111111,\"#46039f\"],[0.2222222222222222,\"#7201a8\"],[0.3333333333333333,\"#9c179e\"],[0.4444444444444444,\"#bd3786\"],[0.5555555555555556,\"#d8576b\"],[0.6666666666666666,\"#ed7953\"],[0.7777777777777778,\"#fb9f3a\"],[0.8888888888888888,\"#fdca26\"],[1.0,\"#f0f921\"]],\"type\":\"contour\"}],\"contourcarpet\":[{\"colorbar\":{\"outlinewidth\":0,\"ticks\":\"\"},\"type\":\"contourcarpet\"}],\"heatmap\":[{\"colorbar\":{\"outlinewidth\":0,\"ticks\":\"\"},\"colorscale\":[[0.0,\"#0d0887\"],[0.1111111111111111,\"#46039f\"],[0.2222222222222222,\"#7201a8\"],[0.3333333333333333,\"#9c179e\"],[0.4444444444444444,\"#bd3786\"],[0.5555555555555556,\"#d8576b\"],[0.6666666666666666,\"#ed7953\"],[0.7777777777777778,\"#fb9f3a\"],[0.8888888888888888,\"#fdca26\"],[1.0,\"#f0f921\"]],\"type\":\"heatmap\"}],\"heatmapgl\":[{\"colorbar\":{\"outlinewidth\":0,\"ticks\":\"\"},\"colorscale\":[[0.0,\"#0d0887\"],[0.1111111111111111,\"#46039f\"],[0.2222222222222222,\"#7201a8\"],[0.3333333333333333,\"#9c179e\"],[0.4444444444444444,\"#bd3786\"],[0.5555555555555556,\"#d8576b\"],[0.6666666666666666,\"#ed7953\"],[0.7777777777777778,\"#fb9f3a\"],[0.8888888888888888,\"#fdca26\"],[1.0,\"#f0f921\"]],\"type\":\"heatmapgl\"}],\"histogram\":[{\"marker\":{\"pattern\":{\"fillmode\":\"overlay\",\"size\":10,\"solidity\":0.2}},\"type\":\"histogram\"}],\"histogram2d\":[{\"colorbar\":{\"outlinewidth\":0,\"ticks\":\"\"},\"colorscale\":[[0.0,\"#0d0887\"],[0.1111111111111111,\"#46039f\"],[0.2222222222222222,\"#7201a8\"],[0.3333333333333333,\"#9c179e\"],[0.4444444444444444,\"#bd3786\"],[0.5555555555555556,\"#d8576b\"],[0.6666666666666666,\"#ed7953\"],[0.7777777777777778,\"#fb9f3a\"],[0.8888888888888888,\"#fdca26\"],[1.0,\"#f0f921\"]],\"type\":\"histogram2d\"}],\"histogram2dcontour\":[{\"colorbar\":{\"outlinewidth\":0,\"ticks\":\"\"},\"colorscale\":[[0.0,\"#0d0887\"],[0.1111111111111111,\"#46039f\"],[0.2222222222222222,\"#7201a8\"],[0.3333333333333333,\"#9c179e\"],[0.4444444444444444,\"#bd3786\"],[0.5555555555555556,\"#d8576b\"],[0.6666666666666666,\"#ed7953\"],[0.7777777777777778,\"#fb9f3a\"],[0.8888888888888888,\"#fdca26\"],[1.0,\"#f0f921\"]],\"type\":\"histogram2dcontour\"}],\"mesh3d\":[{\"colorbar\":{\"outlinewidth\":0,\"ticks\":\"\"},\"type\":\"mesh3d\"}],\"parcoords\":[{\"line\":{\"colorbar\":{\"outlinewidth\":0,\"ticks\":\"\"}},\"type\":\"parcoords\"}],\"pie\":[{\"automargin\":true,\"type\":\"pie\"}],\"scatter\":[{\"marker\":{\"colorbar\":{\"outlinewidth\":0,\"ticks\":\"\"}},\"type\":\"scatter\"}],\"scatter3d\":[{\"line\":{\"colorbar\":{\"outlinewidth\":0,\"ticks\":\"\"}},\"marker\":{\"colorbar\":{\"outlinewidth\":0,\"ticks\":\"\"}},\"type\":\"scatter3d\"}],\"scattercarpet\":[{\"marker\":{\"colorbar\":{\"outlinewidth\":0,\"ticks\":\"\"}},\"type\":\"scattercarpet\"}],\"scattergeo\":[{\"marker\":{\"colorbar\":{\"outlinewidth\":0,\"ticks\":\"\"}},\"type\":\"scattergeo\"}],\"scattergl\":[{\"marker\":{\"colorbar\":{\"outlinewidth\":0,\"ticks\":\"\"}},\"type\":\"scattergl\"}],\"scattermapbox\":[{\"marker\":{\"colorbar\":{\"outlinewidth\":0,\"ticks\":\"\"}},\"type\":\"scattermapbox\"}],\"scatterpolar\":[{\"marker\":{\"colorbar\":{\"outlinewidth\":0,\"ticks\":\"\"}},\"type\":\"scatterpolar\"}],\"scatterpolargl\":[{\"marker\":{\"colorbar\":{\"outlinewidth\":0,\"ticks\":\"\"}},\"type\":\"scatterpolargl\"}],\"scatterternary\":[{\"marker\":{\"colorbar\":{\"outlinewidth\":0,\"ticks\":\"\"}},\"type\":\"scatterternary\"}],\"surface\":[{\"colorbar\":{\"outlinewidth\":0,\"ticks\":\"\"},\"colorscale\":[[0.0,\"#0d0887\"],[0.1111111111111111,\"#46039f\"],[0.2222222222222222,\"#7201a8\"],[0.3333333333333333,\"#9c179e\"],[0.4444444444444444,\"#bd3786\"],[0.5555555555555556,\"#d8576b\"],[0.6666666666666666,\"#ed7953\"],[0.7777777777777778,\"#fb9f3a\"],[0.8888888888888888,\"#fdca26\"],[1.0,\"#f0f921\"]],\"type\":\"surface\"}],\"table\":[{\"cells\":{\"fill\":{\"color\":\"#EBF0F8\"},\"line\":{\"color\":\"white\"}},\"header\":{\"fill\":{\"color\":\"#C8D4E3\"},\"line\":{\"color\":\"white\"}},\"type\":\"table\"}]},\"layout\":{\"annotationdefaults\":{\"arrowcolor\":\"#2a3f5f\",\"arrowhead\":0,\"arrowwidth\":1},\"autotypenumbers\":\"strict\",\"coloraxis\":{\"colorbar\":{\"outlinewidth\":0,\"ticks\":\"\"}},\"colorscale\":{\"diverging\":[[0,\"#8e0152\"],[0.1,\"#c51b7d\"],[0.2,\"#de77ae\"],[0.3,\"#f1b6da\"],[0.4,\"#fde0ef\"],[0.5,\"#f7f7f7\"],[0.6,\"#e6f5d0\"],[0.7,\"#b8e186\"],[0.8,\"#7fbc41\"],[0.9,\"#4d9221\"],[1,\"#276419\"]],\"sequential\":[[0.0,\"#0d0887\"],[0.1111111111111111,\"#46039f\"],[0.2222222222222222,\"#7201a8\"],[0.3333333333333333,\"#9c179e\"],[0.4444444444444444,\"#bd3786\"],[0.5555555555555556,\"#d8576b\"],[0.6666666666666666,\"#ed7953\"],[0.7777777777777778,\"#fb9f3a\"],[0.8888888888888888,\"#fdca26\"],[1.0,\"#f0f921\"]],\"sequentialminus\":[[0.0,\"#0d0887\"],[0.1111111111111111,\"#46039f\"],[0.2222222222222222,\"#7201a8\"],[0.3333333333333333,\"#9c179e\"],[0.4444444444444444,\"#bd3786\"],[0.5555555555555556,\"#d8576b\"],[0.6666666666666666,\"#ed7953\"],[0.7777777777777778,\"#fb9f3a\"],[0.8888888888888888,\"#fdca26\"],[1.0,\"#f0f921\"]]},\"colorway\":[\"#636efa\",\"#EF553B\",\"#00cc96\",\"#ab63fa\",\"#FFA15A\",\"#19d3f3\",\"#FF6692\",\"#B6E880\",\"#FF97FF\",\"#FECB52\"],\"font\":{\"color\":\"#2a3f5f\"},\"geo\":{\"bgcolor\":\"white\",\"lakecolor\":\"white\",\"landcolor\":\"#E5ECF6\",\"showlakes\":true,\"showland\":true,\"subunitcolor\":\"white\"},\"hoverlabel\":{\"align\":\"left\"},\"hovermode\":\"closest\",\"mapbox\":{\"style\":\"light\"},\"paper_bgcolor\":\"white\",\"plot_bgcolor\":\"#E5ECF6\",\"polar\":{\"angularaxis\":{\"gridcolor\":\"white\",\"linecolor\":\"white\",\"ticks\":\"\"},\"bgcolor\":\"#E5ECF6\",\"radialaxis\":{\"gridcolor\":\"white\",\"linecolor\":\"white\",\"ticks\":\"\"}},\"scene\":{\"xaxis\":{\"backgroundcolor\":\"#E5ECF6\",\"gridcolor\":\"white\",\"gridwidth\":2,\"linecolor\":\"white\",\"showbackground\":true,\"ticks\":\"\",\"zerolinecolor\":\"white\"},\"yaxis\":{\"backgroundcolor\":\"#E5ECF6\",\"gridcolor\":\"white\",\"gridwidth\":2,\"linecolor\":\"white\",\"showbackground\":true,\"ticks\":\"\",\"zerolinecolor\":\"white\"},\"zaxis\":{\"backgroundcolor\":\"#E5ECF6\",\"gridcolor\":\"white\",\"gridwidth\":2,\"linecolor\":\"white\",\"showbackground\":true,\"ticks\":\"\",\"zerolinecolor\":\"white\"}},\"shapedefaults\":{\"line\":{\"color\":\"#2a3f5f\"}},\"ternary\":{\"aaxis\":{\"gridcolor\":\"white\",\"linecolor\":\"white\",\"ticks\":\"\"},\"baxis\":{\"gridcolor\":\"white\",\"linecolor\":\"white\",\"ticks\":\"\"},\"bgcolor\":\"#E5ECF6\",\"caxis\":{\"gridcolor\":\"white\",\"linecolor\":\"white\",\"ticks\":\"\"}},\"title\":{\"x\":0.05},\"xaxis\":{\"automargin\":true,\"gridcolor\":\"white\",\"linecolor\":\"white\",\"ticks\":\"\",\"title\":{\"standoff\":15},\"zerolinecolor\":\"white\",\"zerolinewidth\":2},\"yaxis\":{\"automargin\":true,\"gridcolor\":\"white\",\"linecolor\":\"white\",\"ticks\":\"\",\"title\":{\"standoff\":15},\"zerolinecolor\":\"white\",\"zerolinewidth\":2}}},\"legend\":{\"tracegroupgap\":0},\"title\":{\"text\":\"Popular Destinations among insured\"}},                        {\"responsive\": true}                    ).then(function(){\n",
              "                            \n",
              "var gd = document.getElementById('27e8befa-ee6c-4c1d-87d2-c398614b4425');\n",
              "var x = new MutationObserver(function (mutations, observer) {{\n",
              "        var display = window.getComputedStyle(gd).display;\n",
              "        if (!display || display === 'none') {{\n",
              "            console.log([gd, 'removed!']);\n",
              "            Plotly.purge(gd);\n",
              "            observer.disconnect();\n",
              "        }}\n",
              "}});\n",
              "\n",
              "// Listen for the removal of the full notebook cells\n",
              "var notebookContainer = gd.closest('#notebook-container');\n",
              "if (notebookContainer) {{\n",
              "    x.observe(notebookContainer, {childList: true});\n",
              "}}\n",
              "\n",
              "// Listen for the clearing of the current output cell\n",
              "var outputEl = gd.closest('.output');\n",
              "if (outputEl) {{\n",
              "    x.observe(outputEl, {childList: true});\n",
              "}}\n",
              "\n",
              "                        })                };                            </script>        </div>\n",
              "</body>\n",
              "</html>"
            ]
          },
          "metadata": {}
        }
      ],
      "source": [
        "df1 = df.groupby(by=[\"Destination\"]).size().reset_index(name=\"counts\")\n",
        "df1.nlargest(15,['counts'])\n",
        "df1['DestinationNew'] = np.where(df1['counts']>1090, df1['Destination'], 'Others')\n",
        "fig = px.pie(df1, values='counts', names='DestinationNew', title='Popular Destinations among insured')\n",
        "fig.show()"
      ]
    },
    {
      "cell_type": "markdown",
      "id": "303fc47f",
      "metadata": {
        "papermill": {
          "duration": 0.037647,
          "end_time": "2021-09-17T02:19:05.447632",
          "exception": false,
          "start_time": "2021-09-17T02:19:05.409985",
          "status": "completed"
        },
        "tags": [],
        "id": "303fc47f"
      },
      "source": [
        "A pie chart depicting 15 most popular destinations among travel insured.Here, I have grouped countries which have less than 1090 insurance policies together into others."
      ]
    },
    {
      "cell_type": "markdown",
      "id": "d929cca1",
      "metadata": {
        "papermill": {
          "duration": 0.03789,
          "end_time": "2021-09-17T02:19:05.843560",
          "exception": false,
          "start_time": "2021-09-17T02:19:05.805670",
          "status": "completed"
        },
        "tags": [],
        "id": "d929cca1"
      },
      "source": [
        "The above figure shows a histogram depicting the distribution of age. From the graph, the majory of people opting for travel insurance are of the age 35 to 50."
      ]
    },
    {
      "cell_type": "code",
      "execution_count": 11,
      "id": "c60c1fc2",
      "metadata": {
        "execution": {
          "iopub.execute_input": "2021-09-17T02:19:05.930621Z",
          "iopub.status.busy": "2021-09-17T02:19:05.929963Z",
          "iopub.status.idle": "2021-09-17T02:19:06.190445Z",
          "shell.execute_reply": "2021-09-17T02:19:06.189430Z",
          "shell.execute_reply.started": "2021-09-14T10:13:14.634847Z"
        },
        "papermill": {
          "duration": 0.308737,
          "end_time": "2021-09-17T02:19:06.190640",
          "exception": false,
          "start_time": "2021-09-17T02:19:05.881903",
          "status": "completed"
        },
        "tags": [],
        "colab": {
          "base_uri": "https://localhost:8080/",
          "height": 350
        },
        "id": "c60c1fc2",
        "outputId": "0248acc9-098f-4d5f-b677-4ce48634b27d"
      },
      "outputs": [
        {
          "output_type": "display_data",
          "data": {
            "image/png": "[encoded data removed]",
            "text/plain": [
              "<Figure size 720x360 with 1 Axes>"
            ]
          },
          "metadata": {
            "needs_background": "light"
          }
        }
      ],
      "source": [
        "df2 = df.groupby(by=[\"Agency\"]).size().reset_index(name=\"counts\")\n",
        "fig = plt.figure(figsize = (10, 5))\n",
        "plt.bar(df2['Agency'], df2['counts'], color ='blue', width = 0.4)\n",
        "plt.xlabel(\"Agency\")\n",
        "plt.ylabel(\"Number of people insured\")\n",
        "plt.title(\"People insured in different Insurance Agencies\")\n",
        "plt.show()"
      ]
    },
    {
      "cell_type": "markdown",
      "id": "1f8241b0",
      "metadata": {
        "papermill": {
          "duration": 0.039496,
          "end_time": "2021-09-17T02:19:06.269697",
          "exception": false,
          "start_time": "2021-09-17T02:19:06.230201",
          "status": "completed"
        },
        "tags": [],
        "id": "1f8241b0"
      },
      "source": [
        "The majority of people are insured under EPX agency."
      ]
    },
    {
      "cell_type": "code",
      "execution_count": 12,
      "id": "3dd77405",
      "metadata": {
        "execution": {
          "iopub.execute_input": "2021-09-17T02:19:06.358565Z",
          "iopub.status.busy": "2021-09-17T02:19:06.357922Z",
          "iopub.status.idle": "2021-09-17T02:19:06.404441Z",
          "shell.execute_reply": "2021-09-17T02:19:06.403886Z",
          "shell.execute_reply.started": "2021-09-14T10:13:33.424949Z"
        },
        "papermill": {
          "duration": 0.095577,
          "end_time": "2021-09-17T02:19:06.404616",
          "exception": false,
          "start_time": "2021-09-17T02:19:06.309039",
          "status": "completed"
        },
        "tags": [],
        "colab": {
          "base_uri": "https://localhost:8080/",
          "height": 542
        },
        "id": "3dd77405",
        "outputId": "c360a241-258f-4a2d-b9ff-511a05fecbc2"
      },
      "outputs": [
        {
          "output_type": "display_data",
          "data": {
            "text/html": [
              "<html>\n",
              "<head><meta charset=\"utf-8\" /></head>\n",
              "<body>\n",
              "    <div>            <script src=\"https://cdnjs.cloudflare.com/ajax/libs/mathjax/2.7.5/MathJax.js?config=TeX-AMS-MML_SVG\"></script><script type=\"text/javascript\">if (window.MathJax) {MathJax.Hub.Config({SVG: {font: \"STIX-Web\"}});}</script>                <script type=\"text/javascript\">window.PlotlyConfig = {MathJaxConfig: 'local'};</script>\n",
              "        <script src=\"https://cdn.plot.ly/plotly-2.8.3.min.js\"></script>                <div id=\"0537ac29-5ce6-42dd-8f64-f7559c0edd11\" class=\"plotly-graph-div\" style=\"height:525px; width:100%;\"></div>            <script type=\"text/javascript\">                                    window.PLOTLYENV=window.PLOTLYENV || {};                                    if (document.getElementById(\"0537ac29-5ce6-42dd-8f64-f7559c0edd11\")) {                    Plotly.newPlot(                        \"0537ac29-5ce6-42dd-8f64-f7559c0edd11\",                        [{\"domain\":{\"x\":[0.0,1.0],\"y\":[0.0,1.0]},\"hovertemplate\":\"Product_Name=%{label}<br>counts=%{value}<extra></extra>\",\"labels\":[\"1 way Comprehensive Plan\",\"2 way Comprehensive Plan\",\"Others\",\"Others\",\"Annual Silver Plan\",\"Others\",\"Others\",\"Others\",\"Basic Plan\",\"Bronze Plan\",\"Cancellation Plan\",\"Others\",\"Others\",\"Others\",\"Others\",\"Others\",\"Rental Vehicle Excess Insurance\",\"Silver Plan\",\"Others\",\"Others\",\"Others\",\"Others\",\"Others\",\"Others\",\"Others\",\"Value Plan\"],\"legendgroup\":\"\",\"name\":\"\",\"showlegend\":true,\"values\":[3331,13158,247,194,1423,100,53,86,5469,4049,18630,9,364,352,74,194,8580,2249,204,73,173,15,1056,527,1,2715],\"type\":\"pie\"}],                        {\"template\":{\"data\":{\"bar\":[{\"error_x\":{\"color\":\"#2a3f5f\"},\"error_y\":{\"color\":\"#2a3f5f\"},\"marker\":{\"line\":{\"color\":\"#E5ECF6\",\"width\":0.5},\"pattern\":{\"fillmode\":\"overlay\",\"size\":10,\"solidity\":0.2}},\"type\":\"bar\"}],\"barpolar\":[{\"marker\":{\"line\":{\"color\":\"#E5ECF6\",\"width\":0.5},\"pattern\":{\"fillmode\":\"overlay\",\"size\":10,\"solidity\":0.2}},\"type\":\"barpolar\"}],\"carpet\":[{\"aaxis\":{\"endlinecolor\":\"#2a3f5f\",\"gridcolor\":\"white\",\"linecolor\":\"white\",\"minorgridcolor\":\"white\",\"startlinecolor\":\"#2a3f5f\"},\"baxis\":{\"endlinecolor\":\"#2a3f5f\",\"gridcolor\":\"white\",\"linecolor\":\"white\",\"minorgridcolor\":\"white\",\"startlinecolor\":\"#2a3f5f\"},\"type\":\"carpet\"}],\"choropleth\":[{\"colorbar\":{\"outlinewidth\":0,\"ticks\":\"\"},\"type\":\"choropleth\"}],\"contour\":[{\"colorbar\":{\"outlinewidth\":0,\"ticks\":\"\"},\"colorscale\":[[0.0,\"#0d0887\"],[0.1111111111111111,\"#46039f\"],[0.2222222222222222,\"#7201a8\"],[0.3333333333333333,\"#9c179e\"],[0.4444444444444444,\"#bd3786\"],[0.5555555555555556,\"#d8576b\"],[0.6666666666666666,\"#ed7953\"],[0.7777777777777778,\"#fb9f3a\"],[0.8888888888888888,\"#fdca26\"],[1.0,\"#f0f921\"]],\"type\":\"contour\"}],\"contourcarpet\":[{\"colorbar\":{\"outlinewidth\":0,\"ticks\":\"\"},\"type\":\"contourcarpet\"}],\"heatmap\":[{\"colorbar\":{\"outlinewidth\":0,\"ticks\":\"\"},\"colorscale\":[[0.0,\"#0d0887\"],[0.1111111111111111,\"#46039f\"],[0.2222222222222222,\"#7201a8\"],[0.3333333333333333,\"#9c179e\"],[0.4444444444444444,\"#bd3786\"],[0.5555555555555556,\"#d8576b\"],[0.6666666666666666,\"#ed7953\"],[0.7777777777777778,\"#fb9f3a\"],[0.8888888888888888,\"#fdca26\"],[1.0,\"#f0f921\"]],\"type\":\"heatmap\"}],\"heatmapgl\":[{\"colorbar\":{\"outlinewidth\":0,\"ticks\":\"\"},\"colorscale\":[[0.0,\"#0d0887\"],[0.1111111111111111,\"#46039f\"],[0.2222222222222222,\"#7201a8\"],[0.3333333333333333,\"#9c179e\"],[0.4444444444444444,\"#bd3786\"],[0.5555555555555556,\"#d8576b\"],[0.6666666666666666,\"#ed7953\"],[0.7777777777777778,\"#fb9f3a\"],[0.8888888888888888,\"#fdca26\"],[1.0,\"#f0f921\"]],\"type\":\"heatmapgl\"}],\"histogram\":[{\"marker\":{\"pattern\":{\"fillmode\":\"overlay\",\"size\":10,\"solidity\":0.2}},\"type\":\"histogram\"}],\"histogram2d\":[{\"colorbar\":{\"outlinewidth\":0,\"ticks\":\"\"},\"colorscale\":[[0.0,\"#0d0887\"],[0.1111111111111111,\"#46039f\"],[0.2222222222222222,\"#7201a8\"],[0.3333333333333333,\"#9c179e\"],[0.4444444444444444,\"#bd3786\"],[0.5555555555555556,\"#d8576b\"],[0.6666666666666666,\"#ed7953\"],[0.7777777777777778,\"#fb9f3a\"],[0.8888888888888888,\"#fdca26\"],[1.0,\"#f0f921\"]],\"type\":\"histogram2d\"}],\"histogram2dcontour\":[{\"colorbar\":{\"outlinewidth\":0,\"ticks\":\"\"},\"colorscale\":[[0.0,\"#0d0887\"],[0.1111111111111111,\"#46039f\"],[0.2222222222222222,\"#7201a8\"],[0.3333333333333333,\"#9c179e\"],[0.4444444444444444,\"#bd3786\"],[0.5555555555555556,\"#d8576b\"],[0.6666666666666666,\"#ed7953\"],[0.7777777777777778,\"#fb9f3a\"],[0.8888888888888888,\"#fdca26\"],[1.0,\"#f0f921\"]],\"type\":\"histogram2dcontour\"}],\"mesh3d\":[{\"colorbar\":{\"outlinewidth\":0,\"ticks\":\"\"},\"type\":\"mesh3d\"}],\"parcoords\":[{\"line\":{\"colorbar\":{\"outlinewidth\":0,\"ticks\":\"\"}},\"type\":\"parcoords\"}],\"pie\":[{\"automargin\":true,\"type\":\"pie\"}],\"scatter\":[{\"marker\":{\"colorbar\":{\"outlinewidth\":0,\"ticks\":\"\"}},\"type\":\"scatter\"}],\"scatter3d\":[{\"line\":{\"colorbar\":{\"outlinewidth\":0,\"ticks\":\"\"}},\"marker\":{\"colorbar\":{\"outlinewidth\":0,\"ticks\":\"\"}},\"type\":\"scatter3d\"}],\"scattercarpet\":[{\"marker\":{\"colorbar\":{\"outlinewidth\":0,\"ticks\":\"\"}},\"type\":\"scattercarpet\"}],\"scattergeo\":[{\"marker\":{\"colorbar\":{\"outlinewidth\":0,\"ticks\":\"\"}},\"type\":\"scattergeo\"}],\"scattergl\":[{\"marker\":{\"colorbar\":{\"outlinewidth\":0,\"ticks\":\"\"}},\"type\":\"scattergl\"}],\"scattermapbox\":[{\"marker\":{\"colorbar\":{\"outlinewidth\":0,\"ticks\":\"\"}},\"type\":\"scattermapbox\"}],\"scatterpolar\":[{\"marker\":{\"colorbar\":{\"outlinewidth\":0,\"ticks\":\"\"}},\"type\":\"scatterpolar\"}],\"scatterpolargl\":[{\"marker\":{\"colorbar\":{\"outlinewidth\":0,\"ticks\":\"\"}},\"type\":\"scatterpolargl\"}],\"scatterternary\":[{\"marker\":{\"colorbar\":{\"outlinewidth\":0,\"ticks\":\"\"}},\"type\":\"scatterternary\"}],\"surface\":[{\"colorbar\":{\"outlinewidth\":0,\"ticks\":\"\"},\"colorscale\":[[0.0,\"#0d0887\"],[0.1111111111111111,\"#46039f\"],[0.2222222222222222,\"#7201a8\"],[0.3333333333333333,\"#9c179e\"],[0.4444444444444444,\"#bd3786\"],[0.5555555555555556,\"#d8576b\"],[0.6666666666666666,\"#ed7953\"],[0.7777777777777778,\"#fb9f3a\"],[0.8888888888888888,\"#fdca26\"],[1.0,\"#f0f921\"]],\"type\":\"surface\"}],\"table\":[{\"cells\":{\"fill\":{\"color\":\"#EBF0F8\"},\"line\":{\"color\":\"white\"}},\"header\":{\"fill\":{\"color\":\"#C8D4E3\"},\"line\":{\"color\":\"white\"}},\"type\":\"table\"}]},\"layout\":{\"annotationdefaults\":{\"arrowcolor\":\"#2a3f5f\",\"arrowhead\":0,\"arrowwidth\":1},\"autotypenumbers\":\"strict\",\"coloraxis\":{\"colorbar\":{\"outlinewidth\":0,\"ticks\":\"\"}},\"colorscale\":{\"diverging\":[[0,\"#8e0152\"],[0.1,\"#c51b7d\"],[0.2,\"#de77ae\"],[0.3,\"#f1b6da\"],[0.4,\"#fde0ef\"],[0.5,\"#f7f7f7\"],[0.6,\"#e6f5d0\"],[0.7,\"#b8e186\"],[0.8,\"#7fbc41\"],[0.9,\"#4d9221\"],[1,\"#276419\"]],\"sequential\":[[0.0,\"#0d0887\"],[0.1111111111111111,\"#46039f\"],[0.2222222222222222,\"#7201a8\"],[0.3333333333333333,\"#9c179e\"],[0.4444444444444444,\"#bd3786\"],[0.5555555555555556,\"#d8576b\"],[0.6666666666666666,\"#ed7953\"],[0.7777777777777778,\"#fb9f3a\"],[0.8888888888888888,\"#fdca26\"],[1.0,\"#f0f921\"]],\"sequentialminus\":[[0.0,\"#0d0887\"],[0.1111111111111111,\"#46039f\"],[0.2222222222222222,\"#7201a8\"],[0.3333333333333333,\"#9c179e\"],[0.4444444444444444,\"#bd3786\"],[0.5555555555555556,\"#d8576b\"],[0.6666666666666666,\"#ed7953\"],[0.7777777777777778,\"#fb9f3a\"],[0.8888888888888888,\"#fdca26\"],[1.0,\"#f0f921\"]]},\"colorway\":[\"#636efa\",\"#EF553B\",\"#00cc96\",\"#ab63fa\",\"#FFA15A\",\"#19d3f3\",\"#FF6692\",\"#B6E880\",\"#FF97FF\",\"#FECB52\"],\"font\":{\"color\":\"#2a3f5f\"},\"geo\":{\"bgcolor\":\"white\",\"lakecolor\":\"white\",\"landcolor\":\"#E5ECF6\",\"showlakes\":true,\"showland\":true,\"subunitcolor\":\"white\"},\"hoverlabel\":{\"align\":\"left\"},\"hovermode\":\"closest\",\"mapbox\":{\"style\":\"light\"},\"paper_bgcolor\":\"white\",\"plot_bgcolor\":\"#E5ECF6\",\"polar\":{\"angularaxis\":{\"gridcolor\":\"white\",\"linecolor\":\"white\",\"ticks\":\"\"},\"bgcolor\":\"#E5ECF6\",\"radialaxis\":{\"gridcolor\":\"white\",\"linecolor\":\"white\",\"ticks\":\"\"}},\"scene\":{\"xaxis\":{\"backgroundcolor\":\"#E5ECF6\",\"gridcolor\":\"white\",\"gridwidth\":2,\"linecolor\":\"white\",\"showbackground\":true,\"ticks\":\"\",\"zerolinecolor\":\"white\"},\"yaxis\":{\"backgroundcolor\":\"#E5ECF6\",\"gridcolor\":\"white\",\"gridwidth\":2,\"linecolor\":\"white\",\"showbackground\":true,\"ticks\":\"\",\"zerolinecolor\":\"white\"},\"zaxis\":{\"backgroundcolor\":\"#E5ECF6\",\"gridcolor\":\"white\",\"gridwidth\":2,\"linecolor\":\"white\",\"showbackground\":true,\"ticks\":\"\",\"zerolinecolor\":\"white\"}},\"shapedefaults\":{\"line\":{\"color\":\"#2a3f5f\"}},\"ternary\":{\"aaxis\":{\"gridcolor\":\"white\",\"linecolor\":\"white\",\"ticks\":\"\"},\"baxis\":{\"gridcolor\":\"white\",\"linecolor\":\"white\",\"ticks\":\"\"},\"bgcolor\":\"#E5ECF6\",\"caxis\":{\"gridcolor\":\"white\",\"linecolor\":\"white\",\"ticks\":\"\"}},\"title\":{\"x\":0.05},\"xaxis\":{\"automargin\":true,\"gridcolor\":\"white\",\"linecolor\":\"white\",\"ticks\":\"\",\"title\":{\"standoff\":15},\"zerolinecolor\":\"white\",\"zerolinewidth\":2},\"yaxis\":{\"automargin\":true,\"gridcolor\":\"white\",\"linecolor\":\"white\",\"ticks\":\"\",\"title\":{\"standoff\":15},\"zerolinecolor\":\"white\",\"zerolinewidth\":2}}},\"legend\":{\"tracegroupgap\":0},\"title\":{\"text\":\"People insured under different plans\"}},                        {\"responsive\": true}                    ).then(function(){\n",
              "                            \n",
              "var gd = document.getElementById('0537ac29-5ce6-42dd-8f64-f7559c0edd11');\n",
              "var x = new MutationObserver(function (mutations, observer) {{\n",
              "        var display = window.getComputedStyle(gd).display;\n",
              "        if (!display || display === 'none') {{\n",
              "            console.log([gd, 'removed!']);\n",
              "            Plotly.purge(gd);\n",
              "            observer.disconnect();\n",
              "        }}\n",
              "}});\n",
              "\n",
              "// Listen for the removal of the full notebook cells\n",
              "var notebookContainer = gd.closest('#notebook-container');\n",
              "if (notebookContainer) {{\n",
              "    x.observe(notebookContainer, {childList: true});\n",
              "}}\n",
              "\n",
              "// Listen for the clearing of the current output cell\n",
              "var outputEl = gd.closest('.output');\n",
              "if (outputEl) {{\n",
              "    x.observe(outputEl, {childList: true});\n",
              "}}\n",
              "\n",
              "                        })                };                            </script>        </div>\n",
              "</body>\n",
              "</html>"
            ]
          },
          "metadata": {}
        }
      ],
      "source": [
        "df3 = df.groupby(by=[\"Product_Name\"]).size().reset_index(name=\"counts\")\n",
        "df3.nlargest(10,['counts'])\n",
        "df3['Product_Name'] = np.where(df3['counts']>1090, df3['Product_Name'], 'Others')\n",
        "fig = px.pie(df3, values='counts', names='Product_Name', title='People insured under different plans')\n",
        "fig.show()"
      ]
    },
    {
      "cell_type": "markdown",
      "id": "c398152e",
      "metadata": {
        "papermill": {
          "duration": 0.040241,
          "end_time": "2021-09-17T02:19:06.485674",
          "exception": false,
          "start_time": "2021-09-17T02:19:06.445433",
          "status": "completed"
        },
        "tags": [],
        "id": "c398152e"
      },
      "source": [
        "The pie chart depicts that majority of travel insured people have opted for Cancellation Plan."
      ]
    },
    {
      "cell_type": "code",
      "execution_count": 13,
      "id": "9f9e9b7f",
      "metadata": {
        "execution": {
          "iopub.execute_input": "2021-09-17T02:19:06.575176Z",
          "iopub.status.busy": "2021-09-17T02:19:06.574405Z",
          "iopub.status.idle": "2021-09-17T02:19:06.840764Z",
          "shell.execute_reply": "2021-09-17T02:19:06.840199Z",
          "shell.execute_reply.started": "2021-09-14T10:14:06.634874Z"
        },
        "papermill": {
          "duration": 0.313735,
          "end_time": "2021-09-17T02:19:06.840923",
          "exception": false,
          "start_time": "2021-09-17T02:19:06.527188",
          "status": "completed"
        },
        "tags": [],
        "colab": {
          "base_uri": "https://localhost:8080/",
          "height": 350
        },
        "id": "9f9e9b7f",
        "outputId": "640a5c51-645e-4464-9ad0-29a7a65d58ec"
      },
      "outputs": [
        {
          "output_type": "display_data",
          "data": {
            "image/png": "[encoded data removed]",
            "text/plain": [
              "<Figure size 720x360 with 1 Axes>"
            ]
          },
          "metadata": {
            "needs_background": "light"
          }
        }
      ],
      "source": [
        "df4=df.groupby(by=['Agency']).mean().reset_index()\n",
        "df4.head()\n",
        "fig = plt.figure(figsize = (10, 5))\n",
        "plt.bar(df4['Agency'], df4['Commision'], color ='green', width = 0.4)\n",
        "plt.xlabel(\"Agency\")\n",
        "plt.ylabel(\"Avg. Commision\")\n",
        "plt.title(\"Average commision of agents in various agency\")\n",
        "plt.show()"
      ]
    },
    {
      "cell_type": "markdown",
      "id": "0ee81346",
      "metadata": {
        "papermill": {
          "duration": 0.040748,
          "end_time": "2021-09-17T02:19:06.923312",
          "exception": false,
          "start_time": "2021-09-17T02:19:06.882564",
          "status": "completed"
        },
        "tags": [],
        "id": "0ee81346"
      },
      "source": [
        "LWC is the agency that gives maximum commision to its agents while EPX gives NIL."
      ]
    },
    {
      "cell_type": "code",
      "execution_count": 14,
      "id": "cf9326e6",
      "metadata": {
        "execution": {
          "iopub.execute_input": "2021-09-17T02:19:07.010071Z",
          "iopub.status.busy": "2021-09-17T02:19:07.008981Z",
          "iopub.status.idle": "2021-09-17T02:19:07.258694Z",
          "shell.execute_reply": "2021-09-17T02:19:07.258019Z",
          "shell.execute_reply.started": "2021-09-14T10:14:32.429452Z"
        },
        "papermill": {
          "duration": 0.294408,
          "end_time": "2021-09-17T02:19:07.258857",
          "exception": false,
          "start_time": "2021-09-17T02:19:06.964449",
          "status": "completed"
        },
        "tags": [],
        "colab": {
          "base_uri": "https://localhost:8080/",
          "height": 350
        },
        "id": "cf9326e6",
        "outputId": "4876057e-106c-493f-9981-ecbc0baab5cc"
      },
      "outputs": [
        {
          "output_type": "display_data",
          "data": {
            "image/png": "[encoded data removed]",
            "text/plain": [
              "<Figure size 720x360 with 1 Axes>"
            ]
          },
          "metadata": {
            "needs_background": "light"
          }
        }
      ],
      "source": [
        "fig = plt.figure(figsize = (10, 5))\n",
        "plt.bar(df4['Agency'], df4['Net_Sales'], color ='pink', width = 0.4)\n",
        "plt.xlabel(\"Agency\")\n",
        "plt.ylabel(\"Avg. Net Sales\")\n",
        "plt.title(\"Average Net Sales per agency\")\n",
        "plt.show()"
      ]
    },
    {
      "cell_type": "markdown",
      "id": "e7f43d72",
      "metadata": {
        "papermill": {
          "duration": 0.042675,
          "end_time": "2021-09-17T02:19:07.343453",
          "exception": false,
          "start_time": "2021-09-17T02:19:07.300778",
          "status": "completed"
        },
        "tags": [],
        "id": "e7f43d72"
      },
      "source": [
        "The net sales are highest for LWC while lowest for SSI."
      ]
    },
    {
      "cell_type": "code",
      "execution_count": 15,
      "id": "693d3d4e",
      "metadata": {
        "execution": {
          "iopub.execute_input": "2021-09-17T02:19:07.432439Z",
          "iopub.status.busy": "2021-09-17T02:19:07.431292Z",
          "iopub.status.idle": "2021-09-17T02:19:07.611730Z",
          "shell.execute_reply": "2021-09-17T02:19:07.612304Z",
          "shell.execute_reply.started": "2021-09-14T10:14:52.273547Z"
        },
        "papermill": {
          "duration": 0.226737,
          "end_time": "2021-09-17T02:19:07.612497",
          "exception": false,
          "start_time": "2021-09-17T02:19:07.385760",
          "status": "completed"
        },
        "tags": [],
        "colab": {
          "base_uri": "https://localhost:8080/",
          "height": 295
        },
        "id": "693d3d4e",
        "outputId": "126ca4ac-2e35-4071-85bb-837810622e5a"
      },
      "outputs": [
        {
          "output_type": "display_data",
          "data": {
            "image/png": "[encoded data removed]",
            "text/plain": [
              "<Figure size 432x288 with 1 Axes>"
            ]
          },
          "metadata": {
            "needs_background": "light"
          }
        }
      ],
      "source": [
        "df5=df.groupby(by=['Distribution_Channel']).size().reset_index(name=\"counts\")\n",
        "plt.bar(df5['Distribution_Channel'], df5['counts'], color ='purple',width = 0.4)\n",
        "plt.xlabel(\"Distribution Channel\")\n",
        "plt.ylabel(\"Number of people insured\")\n",
        "plt.title(\"People insured under different Distribution Channel\")\n",
        "plt.show()"
      ]
    },
    {
      "cell_type": "markdown",
      "id": "3ac5f76a",
      "metadata": {
        "papermill": {
          "duration": 0.041844,
          "end_time": "2021-09-17T02:19:07.698130",
          "exception": false,
          "start_time": "2021-09-17T02:19:07.656286",
          "status": "completed"
        },
        "tags": [],
        "id": "3ac5f76a"
      },
      "source": [
        "Majority of people have opted for online mode of insurance distribution channel."
      ]
    },
    {
      "cell_type": "code",
      "execution_count": 16,
      "id": "90dbcdf1",
      "metadata": {
        "execution": {
          "iopub.execute_input": "2021-09-17T02:19:07.794232Z",
          "iopub.status.busy": "2021-09-17T02:19:07.793563Z",
          "iopub.status.idle": "2021-09-17T02:19:07.930768Z",
          "shell.execute_reply": "2021-09-17T02:19:07.930148Z",
          "shell.execute_reply.started": "2021-09-14T10:15:17.535129Z"
        },
        "papermill": {
          "duration": 0.190666,
          "end_time": "2021-09-17T02:19:07.930912",
          "exception": false,
          "start_time": "2021-09-17T02:19:07.740246",
          "status": "completed"
        },
        "tags": [],
        "colab": {
          "base_uri": "https://localhost:8080/",
          "height": 264
        },
        "id": "90dbcdf1",
        "outputId": "92cc75bd-3eb5-4b02-8271-119a2e32df10"
      },
      "outputs": [
        {
          "output_type": "display_data",
          "data": {
            "image/png": "[encoded data removed]",
            "text/plain": [
              "<Figure size 432x288 with 1 Axes>"
            ]
          },
          "metadata": {}
        }
      ],
      "source": [
        "df6=df.loc[df['Claim']=='Yes']\n",
        "df7= df6.groupby(by=[\"Destination\"]).size().reset_index(name=\"counts\")\n",
        "df8=df7.nlargest(5,['counts'])\n",
        "my_circle = plt.Circle((0, 0), 0.6, color='white')\n",
        "plt.pie(df8['counts'], labels=df8['Destination'], autopct='%1.1f%%', colors=Pastel1_7.hex_colors)\n",
        "plt.title('Top 5 countries where insured are raising claim requests')\n",
        "p = plt.gcf()\n",
        "p.gca().add_artist(my_circle)\n",
        "plt.show()"
      ]
    },
    {
      "cell_type": "markdown",
      "id": "fd43edde",
      "metadata": {
        "papermill": {
          "duration": 0.043575,
          "end_time": "2021-09-17T02:19:08.017645",
          "exception": false,
          "start_time": "2021-09-17T02:19:07.974070",
          "status": "completed"
        },
        "tags": [],
        "id": "fd43edde"
      },
      "source": [
        "Singapore tops the list with maximum number of claim request filed. "
      ]
    },
    {
      "cell_type": "code",
      "execution_count": 17,
      "id": "76aeeb6e",
      "metadata": {
        "execution": {
          "iopub.execute_input": "2021-09-17T02:19:08.138816Z",
          "iopub.status.busy": "2021-09-17T02:19:08.136414Z",
          "iopub.status.idle": "2021-09-17T02:19:08.239325Z",
          "shell.execute_reply": "2021-09-17T02:19:08.238568Z",
          "shell.execute_reply.started": "2021-09-14T10:15:37.174843Z"
        },
        "papermill": {
          "duration": 0.178657,
          "end_time": "2021-09-17T02:19:08.239486",
          "exception": false,
          "start_time": "2021-09-17T02:19:08.060829",
          "status": "completed"
        },
        "tags": [],
        "colab": {
          "base_uri": "https://localhost:8080/",
          "height": 264
        },
        "id": "76aeeb6e",
        "outputId": "a96ff40a-6487-4616-e0a6-adc605cc2fa8"
      },
      "outputs": [
        {
          "output_type": "display_data",
          "data": {
            "image/png": "[encoded data removed]",
            "text/plain": [
              "<Figure size 432x288 with 1 Axes>"
            ]
          },
          "metadata": {}
        }
      ],
      "source": [
        "df9= df6.groupby(by=[\"Product_Name\"]).size().reset_index(name=\"counts\")\n",
        "df10=df9.nlargest(5,['counts'])\n",
        "my_circle = plt.Circle((0, 0), 0.6, color='white')\n",
        "plt.pie(df10['counts'], labels=df10['Product_Name'], autopct='%1.1f%%',colors=Pastel1_7.hex_colors)\n",
        "plt.title('Top 5 plans where insured are raising claim requests')\n",
        "p = plt.gcf()\n",
        "p.gca().add_artist(my_circle)\n",
        "plt.show()"
      ]
    },
    {
      "cell_type": "markdown",
      "id": "e5002c5a",
      "metadata": {
        "papermill": {
          "duration": 0.043776,
          "end_time": "2021-09-17T02:19:08.327827",
          "exception": false,
          "start_time": "2021-09-17T02:19:08.284051",
          "status": "completed"
        },
        "tags": [],
        "id": "e5002c5a"
      },
      "source": [
        "The majority claim requests are coming from Bronze Plan and Annual Silver Plan."
      ]
    },
    {
      "cell_type": "code",
      "execution_count": 18,
      "id": "3cd6420b",
      "metadata": {
        "execution": {
          "iopub.execute_input": "2021-09-17T02:19:08.429391Z",
          "iopub.status.busy": "2021-09-17T02:19:08.425984Z",
          "iopub.status.idle": "2021-09-17T02:19:08.537322Z",
          "shell.execute_reply": "2021-09-17T02:19:08.536700Z",
          "shell.execute_reply.started": "2021-09-14T10:15:57.124376Z"
        },
        "papermill": {
          "duration": 0.164593,
          "end_time": "2021-09-17T02:19:08.537469",
          "exception": false,
          "start_time": "2021-09-17T02:19:08.372876",
          "status": "completed"
        },
        "tags": [],
        "colab": {
          "base_uri": "https://localhost:8080/",
          "height": 264
        },
        "id": "3cd6420b",
        "outputId": "54c20c56-21b8-4257-ac3c-dd795e9ef81c"
      },
      "outputs": [
        {
          "output_type": "display_data",
          "data": {
            "image/png": "[encoded data removed]",
            "text/plain": [
              "<Figure size 432x288 with 1 Axes>"
            ]
          },
          "metadata": {}
        }
      ],
      "source": [
        "df11= df6.groupby(by=[\"Agency\"]).size().reset_index(name=\"counts\")\n",
        "df12=df11.nlargest(5,['counts'])\n",
        "my_circle = plt.Circle((0, 0), 0.6, color='white')\n",
        "plt.pie(df12['counts'], labels=df12['Agency'], autopct='%1.1f%%', colors=Pastel1_7.hex_colors)\n",
        "plt.title('Top 5 Agencies where insured are raising claim requests')\n",
        "p = plt.gcf()\n",
        "p.gca().add_artist(my_circle)\n",
        "plt.show()"
      ]
    },
    {
      "cell_type": "markdown",
      "id": "bac9d479",
      "metadata": {
        "papermill": {
          "duration": 0.044743,
          "end_time": "2021-09-17T02:19:08.628103",
          "exception": false,
          "start_time": "2021-09-17T02:19:08.583360",
          "status": "completed"
        },
        "tags": [],
        "id": "bac9d479"
      },
      "source": [
        "The maximum claim requests have come to the agency called C2B."
      ]
    },
    {
      "cell_type": "code",
      "execution_count": 19,
      "id": "3ec209f1",
      "metadata": {
        "execution": {
          "iopub.execute_input": "2021-09-17T02:19:08.726371Z",
          "iopub.status.busy": "2021-09-17T02:19:08.721937Z",
          "iopub.status.idle": "2021-09-17T02:19:08.893975Z",
          "shell.execute_reply": "2021-09-17T02:19:08.893257Z",
          "shell.execute_reply.started": "2021-09-14T10:16:15.634292Z"
        },
        "papermill": {
          "duration": 0.22024,
          "end_time": "2021-09-17T02:19:08.894129",
          "exception": false,
          "start_time": "2021-09-17T02:19:08.673889",
          "status": "completed"
        },
        "tags": [],
        "colab": {
          "base_uri": "https://localhost:8080/",
          "height": 295
        },
        "id": "3ec209f1",
        "outputId": "f1854f0b-701c-4fc9-b2b6-b8ef59901d9a"
      },
      "outputs": [
        {
          "output_type": "display_data",
          "data": {
            "image/png": "[encoded data removed]",
            "text/plain": [
              "<Figure size 432x288 with 1 Axes>"
            ]
          },
          "metadata": {
            "needs_background": "light"
          }
        }
      ],
      "source": [
        "df13=df.groupby(by=['Agency_Type']).size().reset_index(name=\"counts\")\n",
        "plt.bar(df13['Agency_Type'], df13['counts'], color ='red',width = 0.4)\n",
        "plt.xlabel(\"Agency Type\")\n",
        "plt.ylabel(\"Number of people insured\")\n",
        "plt.title(\"People insured under different Agency Type\")\n",
        "plt.show()"
      ]
    },
    {
      "cell_type": "markdown",
      "id": "96911565",
      "metadata": {
        "papermill": {
          "duration": 0.04698,
          "end_time": "2021-09-17T02:19:08.996778",
          "exception": false,
          "start_time": "2021-09-17T02:19:08.949798",
          "status": "completed"
        },
        "tags": [],
        "id": "96911565"
      },
      "source": [
        "Majority of people have got their insurance via Travel Agency."
      ]
    },
    {
      "cell_type": "code",
      "execution_count": 20,
      "id": "f0e6dc3e",
      "metadata": {
        "execution": {
          "iopub.execute_input": "2021-09-17T02:19:09.098603Z",
          "iopub.status.busy": "2021-09-17T02:19:09.097863Z",
          "iopub.status.idle": "2021-09-17T02:19:09.271521Z",
          "shell.execute_reply": "2021-09-17T02:19:09.270564Z",
          "shell.execute_reply.started": "2021-09-14T10:16:41.075846Z"
        },
        "papermill": {
          "duration": 0.229413,
          "end_time": "2021-09-17T02:19:09.271704",
          "exception": false,
          "start_time": "2021-09-17T02:19:09.042291",
          "status": "completed"
        },
        "tags": [],
        "colab": {
          "base_uri": "https://localhost:8080/",
          "height": 295
        },
        "id": "f0e6dc3e",
        "outputId": "96878159-4139-4d05-cb21-ce04cbea8139"
      },
      "outputs": [
        {
          "output_type": "display_data",
          "data": {
            "image/png": "[encoded data removed]",
            "text/plain": [
              "<Figure size 432x288 with 1 Axes>"
            ]
          },
          "metadata": {
            "needs_background": "light"
          }
        }
      ],
      "source": [
        "df14 = df.groupby(by=[\"Claim\"]).size().reset_index(name=\"counts\")\n",
        "plt.bar(df14['Claim'], df14['counts'], color ='grey',width = 0.4)\n",
        "plt.xlabel(\"Claim\")\n",
        "plt.ylabel(\"Number of people insured\")\n",
        "plt.title(\"People Insured who requested for claim vs who did not\")\n",
        "plt.show()"
      ]
    },
    {
      "cell_type": "markdown",
      "id": "b196ff45",
      "metadata": {
        "papermill": {
          "duration": 0.048079,
          "end_time": "2021-09-17T02:19:09.368347",
          "exception": false,
          "start_time": "2021-09-17T02:19:09.320268",
          "status": "completed"
        },
        "tags": [],
        "id": "b196ff45"
      },
      "source": [
        "Around 900 people have requested for claim out of total policy holders which is around 1.4%."
      ]
    },
    {
      "cell_type": "markdown",
      "id": "145c4a63",
      "metadata": {
        "execution": {
          "iopub.execute_input": "2021-09-14T10:17:16.654416Z",
          "iopub.status.busy": "2021-09-14T10:17:16.654112Z",
          "iopub.status.idle": "2021-09-14T10:17:16.660288Z",
          "shell.execute_reply": "2021-09-14T10:17:16.659373Z",
          "shell.execute_reply.started": "2021-09-14T10:17:16.654388Z"
        },
        "papermill": {
          "duration": 0.048656,
          "end_time": "2021-09-17T02:19:09.700297",
          "exception": false,
          "start_time": "2021-09-17T02:19:09.651641",
          "status": "completed"
        },
        "tags": [],
        "id": "145c4a63"
      },
      "source": [
        "The boxplot shows data distribution of the Duration feature. We can see that there are some outliers depicting negative values of duration i.e. Time which ideally is not possible."
      ]
    },
    {
      "cell_type": "code",
      "execution_count": 24,
      "id": "fd9d98ec",
      "metadata": {
        "execution": {
          "iopub.execute_input": "2021-09-17T02:19:10.623728Z",
          "iopub.status.busy": "2021-09-17T02:19:10.622710Z",
          "iopub.status.idle": "2021-09-17T02:19:11.530010Z",
          "shell.execute_reply": "2021-09-17T02:19:11.529454Z",
          "shell.execute_reply.started": "2021-09-14T10:18:44.054579Z"
        },
        "papermill": {
          "duration": 0.959639,
          "end_time": "2021-09-17T02:19:11.530169",
          "exception": false,
          "start_time": "2021-09-17T02:19:10.570530",
          "status": "completed"
        },
        "tags": [],
        "colab": {
          "base_uri": "https://localhost:8080/",
          "height": 506
        },
        "id": "fd9d98ec",
        "outputId": "6112daea-ad4a-4bd5-bded-db24488f04ae"
      },
      "outputs": [
        {
          "output_type": "execute_result",
          "data": {
            "text/plain": [
              "<matplotlib.axes._subplots.AxesSubplot at 0x7fbc8f286550>"
            ]
          },
          "metadata": {},
          "execution_count": 24
        },
        {
          "output_type": "display_data",
          "data": {
            "image/png": "[encoded data removed]",
            "text/plain": [
              "<Figure size 1440x576 with 2 Axes>"
            ]
          },
          "metadata": {
            "needs_background": "light"
          }
        }
      ],
      "source": [
        "plt.figure(figsize = (20,8))\n",
        "sns.heatmap(df.corr(), square=True,annot=True,cmap= 'coolwarm')"
      ]
    }
  ],
  "metadata": {
    "kernelspec": {
      "display_name": "Python 3",
      "language": "python",
      "name": "python3"
    },
    "language_info": {
      "codemirror_mode": {
        "name": "ipython",
        "version": 3
      },
      "file_extension": ".py",
      "mimetype": "text/x-python",
      "name": "python",
      "nbconvert_exporter": "python",
      "pygments_lexer": "ipython3",
      "version": "3.7.10"
    },
    "papermill": {
      "default_parameters": {},
      "duration": 37.907843,
      "end_time": "2021-09-17T02:19:29.529790",
      "environment_variables": {},
      "exception": null,
      "input_path": "__notebook__.ipynb",
      "output_path": "__notebook__.ipynb",
      "parameters": {},
      "start_time": "2021-09-17T02:18:51.621947",
      "version": "2.3.3"
    },
    "colab": {
      "name": "Project2_Part4_New.ipynb",
      "provenance": [],
      "include_colab_link": true
    }
  },
  "nbformat": 4,
  "nbformat_minor": 5
}